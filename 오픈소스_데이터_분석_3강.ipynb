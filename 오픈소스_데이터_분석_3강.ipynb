{
  "cells": [
    {
      "cell_type": "markdown",
      "metadata": {
        "id": "view-in-github",
        "colab_type": "text"
      },
      "source": [
        "<a href=\"https://colab.research.google.com/github/Taeichang/DataAnalysis/blob/main/%EC%98%A4%ED%94%88%EC%86%8C%EC%8A%A4_%EB%8D%B0%EC%9D%B4%ED%84%B0_%EB%B6%84%EC%84%9D_3%EA%B0%95.ipynb\" target=\"_parent\"><img src=\"https://colab.research.google.com/assets/colab-badge.svg\" alt=\"Open In Colab\"/></a>"
      ]
    },
    {
      "cell_type": "markdown",
      "metadata": {
        "id": "DkPKaAsoRq5Q"
      },
      "source": [
        "\n",
        "\n",
        "# 오픈소스 기반 데이터 분석 3강 - 데이터 분석을 위한 파이썬 2\n"
      ]
    },
    {
      "cell_type": "markdown",
      "source": [
        "## 2.3 파이썬 문법 요소"
      ],
      "metadata": {
        "id": "aSROReHiA951"
      }
    },
    {
      "cell_type": "markdown",
      "metadata": {
        "id": "-I7BVVlnRrB0"
      },
      "source": [
        "### 2.3.1 언패킹\n",
        "\n",
        "> 변수1, ..., 변수n = 시퀀스_객체\n",
        "\n",
        "*   언패킹(unpacking)이란 시퀀스 자료형(리스트, 튜플, 문자열 등)에서 여러개의 값을 개별 변수에 분리하여 할당하는 기능\n",
        "\n",
        "*   시퀀스 객체의 요소 수와 왼쪽 변수 개수는 일치해야 함"
      ]
    },
    {
      "cell_type": "markdown",
      "source": [
        "#### 언패킹 사용 예(1)\n",
        "\n",
        " * 언패킹은 서로 다른 데이터 타입에서도 동일한 방식으로 작동함\n",
        "\n"
      ],
      "metadata": {
        "id": "HRKSYwddD8Ne"
      }
    },
    {
      "cell_type": "code",
      "execution_count": null,
      "metadata": {
        "id": "2Y2HEiaiRwAI",
        "outputId": "00ed8e6a-803f-4bff-94b7-134a37ce7716",
        "colab": {
          "base_uri": "https://localhost:8080/"
        }
      },
      "outputs": [
        {
          "output_type": "stream",
          "name": "stdout",
          "text": [
            "x좌표: 10, y좌표: 20\n",
            "빨강: 255, 초록: 128, 파랑: 0\n",
            "첫 번째 문자: A, 두 번째 문자: B, 세 번째 문자: C\n"
          ]
        }
      ],
      "source": [
        "#튜플 언패킹\n",
        "coordinates = (10, 20)\n",
        "x, y = coordinates\n",
        "print(f'x좌표: {x}, y좌표: {y}')\n",
        "\n",
        "# 리스트 언패킹\n",
        "rgb = [255, 128, 0]\n",
        "red, green, blue = rgb\n",
        "print(f'빨강: {red}, 초록: {green}, 파랑: {blue}')\n",
        "\n",
        "# 문자열 언패킹\n",
        "word = 'ABC'\n",
        "first, second, third = word\n",
        "print(f'첫 번째 문자: {first}, 두 번째 문자: {second}, 세 번째 문자: {third}')"
      ]
    },
    {
      "cell_type": "markdown",
      "source": [
        "#### 언패킹 사용 예(2)\n",
        "\n",
        "\n",
        "\n",
        "1.   get_dataset_stats는 숫자 리스트릴 받아 최솟값, 최댓값, 평균값을 계산하여 한 번에 반환하는 다중 반환 함수\n",
        "2.   data 리스트로 get_dataset_stats 함수를 호출하고, 반환된 세 개의 언패킹 값을 사용해 minimum, maximum, average 변수에 각각 할당\n",
        "3. f-문자열 사용하여 출력함\n",
        "\n"
      ],
      "metadata": {
        "id": "3GOsns1HFrMP"
      }
    },
    {
      "cell_type": "code",
      "execution_count": null,
      "metadata": {
        "id": "IO8bsKekR0W_",
        "outputId": "c6070687-e5db-4991-e602-0c3f0ca22f22",
        "colab": {
          "base_uri": "https://localhost:8080/"
        }
      },
      "outputs": [
        {
          "output_type": "stream",
          "name": "stdout",
          "text": [
            "최솟값: 5, 최댓값: 32, 평균: 15.57\n"
          ]
        }
      ],
      "source": [
        "# 함수값 return 언패킹\n",
        "def get_dataset_stats(values):\n",
        "  return min(values), max(values), sum(values) / len(values)\n",
        "\n",
        "data = [12, 8, 21, 17, 5, 32, 14]\n",
        "minimum, maximum, average = get_dataset_stats(data)\n",
        "print(f'최솟값: {minimum}, 최댓값: {maximum}, 평균: {average:.2f}')"
      ]
    },
    {
      "cell_type": "markdown",
      "source": [
        "#### 언패킹 사용 예(3)\n",
        "\n",
        "\n",
        "*   반복문에서 컬렉션의 각 항목이 여러값으로 구성될 때 언패킹 활용 가능\n",
        "\n",
        "\n",
        "\n",
        "1.   for문에서는 student_scores 리스트의 각 튜플을 순회, 언패킹을 통해 튜플에 포함된 네 개의 요소를 네개의 개별 변수에 할당한다\n",
        "2.   세 과목 점수의 평균을 계산하고, f-문자열을 사용하여 출력\n",
        "\n"
      ],
      "metadata": {
        "id": "t_1H8iMDHCMl"
      }
    },
    {
      "cell_type": "code",
      "execution_count": null,
      "metadata": {
        "id": "60qOf7uxVdAg",
        "outputId": "46de2b89-89b7-43e7-b0d6-272c02321876",
        "colab": {
          "base_uri": "https://localhost:8080/"
        }
      },
      "outputs": [
        {
          "output_type": "stream",
          "name": "stdout",
          "text": [
            "김철수의 평균 점수: 85.0\n",
            "이영희의 평균 점수: 91.7\n",
            "박지민의 평균 점수: 82.7\n"
          ]
        }
      ],
      "source": [
        "# 반복문에서 언패킹 사용\n",
        "student_scores = [\n",
        "    ('김철수', 85, 92, 78),\n",
        "    ('이영희', 92, 88, 95),\n",
        "    ('박지민', 75, 83, 90)\n",
        "]\n",
        "for name, database, python, cloud in student_scores:\n",
        "  average = (database + python + cloud) / 3\n",
        "  print(f'{name}의 평균 점수: {average:.1f}')"
      ]
    },
    {
      "cell_type": "markdown",
      "source": [
        "#### 확장 언패킹 사용\n",
        "\n",
        "*   Python 3에서는 별표(*)를 사용한 확장 언패킹이 추가됨\n",
        "*   확장 언패킹은 나머지 모든 값을 하나의 라스트로 모을 수 있게 함\n"
      ],
      "metadata": {
        "id": "otrF2bD9HkW2"
      }
    },
    {
      "cell_type": "code",
      "execution_count": null,
      "metadata": {
        "id": "JpmgdsW9V0CY",
        "outputId": "433891a5-0457-4aab-e10e-75c1b64f21fc",
        "colab": {
          "base_uri": "https://localhost:8080/"
        }
      },
      "outputs": [
        {
          "output_type": "stream",
          "name": "stdout",
          "text": [
            "1월 판매액: 1200\n",
            "2월 판매액: 1350\n",
            "나머지 월 판매액: [1420, 1500, 1300, 1580, 1620, 1700, 1800, 1850, 1900, 2000]\n",
            "첫 달(1월) 판매액: 1200\n",
            "마지막 달(12월) 판매액: 2000\n",
            "중간 달(2~11월)의 판매액: [1350, 1420, 1500, 1300, 1580, 1620, 1700, 1800, 1850, 1900]\n"
          ]
        }
      ],
      "source": [
        "# 1월, 2월 및 나머지 월 매출액\n",
        "monthly_sales = [1200, 1350, 1420, 1500, 1300, 1580, 1620, 1700, 1800, 1850, 1900, 2000]\n",
        "\n",
        "first, second, *remaining = monthly_sales\n",
        "print(f'1월 판매액: {first}')\n",
        "print(f'2월 판매액: {second}')\n",
        "print(f'나머지 월 판매액: {remaining}')\n",
        "\n",
        "# 1월, 12월 및 나머지 월 매출액\n",
        "\n",
        "first, *middle, last = monthly_sales\n",
        "print(f'첫 달(1월) 판매액: {first}')\n",
        "print(f'마지막 달(12월) 판매액: {last}')\n",
        "print(f'중간 달(2~11월)의 판매액: {middle}')"
      ]
    },
    {
      "cell_type": "markdown",
      "metadata": {
        "id": "RLfPaa1ZiqIC"
      },
      "source": [
        "### 2.3.2 언더스코어\n",
        "\n",
        "\n",
        "\n",
        "*   for문에서는 반복 변수의 값이 필요하지 않을 때 이를 대체하는 역할을 함\n",
        "*   반복의 횟수만 필요하고 변수값을 사용하지 않는 경우에는 _를 변수로 사용\n",
        "*   코드의 의도를 명확하게 표현\n",
        "*   단순한 반복 작업에서 불필요한 변수를 선언하지 않음\n",
        "\n"
      ]
    },
    {
      "cell_type": "markdown",
      "source": [
        "#### 언더스코어 사용 예(1)\n",
        "\n",
        "\n",
        "\n",
        "*   for문을 활용하여 리스트나 튜플의 요소를 언패킹 할 때에도 필요하지 않은 요소가 있는 경우 _를 사용하여 해당 요소를 무시\n",
        "*   값들이 메모리에 할당되긴 하지만, 이름과 성적만 추출하여 출력\n"
      ],
      "metadata": {
        "id": "nIzSy_DyJzRN"
      }
    },
    {
      "cell_type": "code",
      "execution_count": null,
      "metadata": {
        "id": "cRC8x3_iW0im",
        "outputId": "7bd5f8ec-61f8-4a0c-ff7d-b8fc99b9de80",
        "colab": {
          "base_uri": "https://localhost:8080/"
        }
      },
      "outputs": [
        {
          "output_type": "stream",
          "name": "stdout",
          "text": [
            "이름과 성적 출력:\n",
            "김철수의 성적: 3.8\n",
            "이영희의 성적: 4.2\n",
            "박민수의 성적: 3.5\n"
          ]
        }
      ],
      "source": [
        "# 이름 및 성적만 출력\n",
        "students = [\n",
        "    (20251234, '김철수', '컴퓨터과학', 2, 3.8),\n",
        "    (20265678, '이영희', '생활과학부', 3, 4.2),\n",
        "    (20243456, '박민수', '사회복지학과', 1, 3.5)\n",
        "]\n",
        "print('이름과 성적 출력:')\n",
        "for _, name, _, _, grade in students:\n",
        "    print(f'{name}의 성적: {grade}')"
      ]
    },
    {
      "cell_type": "markdown",
      "source": [
        "#### 언더스코어 사용 예(2)\n",
        "\n",
        "\n",
        "\n",
        "*   함수가 여러개의 값을 반환할 때 일부 값만 필요하고 나머지는 무시해야 할 때 사용\n",
        "\n",
        "> get_coordinates() - (x,y,z) 형태의 튜플 반환\n"
      ],
      "metadata": {
        "id": "yc5olOKVJ3s1"
      }
    },
    {
      "cell_type": "code",
      "execution_count": null,
      "metadata": {
        "id": "oYTUmCiXzIvV",
        "outputId": "5e347ade-b82c-4ed0-f652-25cfadc9f5dc",
        "colab": {
          "base_uri": "https://localhost:8080/"
        }
      },
      "outputs": [
        {
          "output_type": "stream",
          "name": "stdout",
          "text": [
            "20\n"
          ]
        }
      ],
      "source": [
        "# 함수 return 값 언더스코어 사용\n",
        "def get_coordinates( ):\n",
        "    return (10, 20, 30)\n",
        "\n",
        "_, y, _ = get_coordinates()\n",
        "print(y)"
      ]
    },
    {
      "cell_type": "markdown",
      "metadata": {
        "id": "bkA3HL5QzIvV"
      },
      "source": [
        "### 2.3.3 예외 처리\n",
        "\n",
        "\n",
        "\n",
        "*   프로그램이 비정상적으로 종료되지 않도록 대비하는 기능\n",
        "*   예외 처리를 하지 않는 경우, 오류가 발생하면 프로그램이 즉시 종료\n",
        "*   파이썬은 try-except문 제공\n",
        "*   finally 블록을 활용하여 예외 발생 여부와 관계없이 반드시 실행해야 하는 코드를 지정\n",
        "\n"
      ]
    },
    {
      "cell_type": "markdown",
      "source": [
        "#### 예외가 발생하는 예\n",
        "\n",
        "\n",
        "1.   정수가 아닌 값 입력, int 함수에서 예외 발생\n",
        "2.   0을 입력하였을 때 나눌 수 없는 값으로 나누는 예외 발생\n",
        "\n"
      ],
      "metadata": {
        "id": "33z989-HNAkV"
      }
    },
    {
      "cell_type": "code",
      "source": [
        "number = int(input('정수를 입력하세요: ' ))\n",
        "result = 10 / number\n",
        "print(f'결과: {result}')"
      ],
      "metadata": {
        "id": "_wEfp2FMQjsE"
      },
      "execution_count": null,
      "outputs": []
    },
    {
      "cell_type": "markdown",
      "source": [
        "#### try-execpt문 사용 예(1)\n",
        "\n",
        "* 예외 처리가 없었다면 프로그램이 강제종료 되지만, except 블록을 사용하여 정상적인 흐름을 유지 할 수 있음\n",
        "\n",
        "\n",
        "\n",
        "1.   try 블록 내의 코드에서 ZeroDivisionError 예외 발생\n",
        "2.   execpt ZeroDivisionError 블록 실행, 메세지 출력\n",
        "\n"
      ],
      "metadata": {
        "id": "y8SiNrmKNuPG"
      }
    },
    {
      "cell_type": "code",
      "execution_count": null,
      "metadata": {
        "id": "sGaFzT-WzdQF",
        "outputId": "250d397c-9c3d-46cb-bcc7-fdee278e3161",
        "colab": {
          "base_uri": "https://localhost:8080/"
        }
      },
      "outputs": [
        {
          "output_type": "stream",
          "name": "stdout",
          "text": [
            "정수를 입력하세요: 0\n",
            "0으로 나눌 수 없습니다.\n"
          ]
        }
      ],
      "source": [
        "number = int(input('정수를 입력하세요: '))\n",
        "\n",
        "# try-except문\n",
        "try:\n",
        "    result = 10 / number\n",
        "except ZeroDivisionError:\n",
        "    print('0으로 나눌 수 없습니다.')"
      ]
    },
    {
      "cell_type": "markdown",
      "source": [
        "#### try-execpt문 사용 예(2)"
      ],
      "metadata": {
        "id": "Y7YD_WxlN3P0"
      }
    },
    {
      "cell_type": "code",
      "execution_count": null,
      "metadata": {
        "id": "aJycqfJvzdGc",
        "outputId": "43e14613-5170-4b66-94e2-7089e893c188",
        "colab": {
          "base_uri": "https://localhost:8080/"
        }
      },
      "outputs": [
        {
          "output_type": "stream",
          "name": "stdout",
          "text": [
            "숫자를 입력하세요: j\n",
            "유효한 숫자를 입력해야 합니다.\n"
          ]
        }
      ],
      "source": [
        "# try문\n",
        "try:\n",
        "    number = int(input('숫자를 입력하세요: '))\n",
        "    result = 10 / number\n",
        "\n",
        "# except문 1\n",
        "except ValueError:\n",
        "    print('유효한 숫자를 입력해야 합니다.')\n",
        "\n",
        "# except문 2\n",
        "except ZeroDivisionError:\n",
        "    print('0으로 나눌 수 없습니다.')"
      ]
    },
    {
      "cell_type": "markdown",
      "source": [
        "#### try-execpt문 사용 예(3)\n",
        "\n",
        "\n",
        "\n",
        "*   발생한 예외에 대한 구체적인 정보는 예외 객체를 통해 얻을 수 있다\n",
        "*   as 키워드를 사용하여 예외 객체를 변수로 받아 메세지를 출력할 수 있다\n",
        "\n"
      ],
      "metadata": {
        "id": "O6Hp8DwEPk6F"
      }
    },
    {
      "cell_type": "code",
      "source": [
        "try:\n",
        "        numbers = [1, 2, 3]\n",
        "        print(numbers[3])\n",
        "except IndexError as e:\n",
        "    print(f'예외 발생: {e}')"
      ],
      "metadata": {
        "id": "ROAWzakgPlE0",
        "outputId": "e3496dea-2e4d-4ec1-bbae-83435a045ce4",
        "colab": {
          "base_uri": "https://localhost:8080/"
        }
      },
      "execution_count": null,
      "outputs": [
        {
          "output_type": "stream",
          "name": "stdout",
          "text": [
            "예외 발생: list index out of range\n"
          ]
        }
      ]
    },
    {
      "cell_type": "markdown",
      "source": [
        "#### finally 블록 사용 예\n",
        "\n",
        "\n",
        "\n",
        "*   파일을 열거나 네트워크 연결을 사용하는 경우, 오류가 발생해도 자원을 정상적으로 해제하기 위해 finally 사용\n",
        "\n",
        "\n"
      ],
      "metadata": {
        "id": "J7BKRofDPngk"
      }
    },
    {
      "cell_type": "code",
      "source": [
        "# try 문\n",
        "try:\n",
        "file = open('data.csv', 'r')\n",
        "content = file.read( )\n",
        "print(content)\n",
        "\n",
        "# except 문\n",
        "except FileNotFoundError:\n",
        "print('파일을 찾을 수 없습니다.')\n",
        "\n",
        "# fianlly 블럭\n",
        "finally:\n",
        "    print('파일 작업 종료.')\n",
        "    file.close( )"
      ],
      "metadata": {
        "id": "4GNpZwXWQzlL"
      },
      "execution_count": null,
      "outputs": []
    },
    {
      "cell_type": "markdown",
      "metadata": {
        "id": "l0YVL4ArzIvV"
      },
      "source": [
        "## 2.4 함수형 프로그래밍\n",
        "\n",
        "\n",
        "\n",
        "*   수학적 개념을 기반으로 한 프로그래밍 기법으로, 데이터 변경을 최소화하고 순수 함수를 활용하여 부작용을 줄이는 것을 목표로 함\n",
        "*   코드 예측 가능성과 재사용이 높아지고, 병렬 처리와 같은 고급 연산에서도 안정성 확보\n",
        "\n",
        "순수함수: 같은 입력에 대해 항상 값은 출력 반환. 함수 외부 상태를 변경하지 않는 함수를 의미. 함수 내부에서 외부 변수에 접근/수정하지 않으며, 오직 입력값 기반으로 결과를 계산\n",
        "\n",
        "부작용: 함수 실행이 외부 세계에 영향을 미치는 행위를 의미. ex) 전역 변수 변경, 파일 입출력, 네트워크 통신, 화면 출력 등\n",
        "\n"
      ]
    },
    {
      "cell_type": "markdown",
      "source": [
        "### 2.4.1 람다 함수\n",
        "\n",
        "\n",
        "*   이름이 없는 익명 함수로 한 줄의 표현식으로 작성\n",
        "*   람다 함수와 def 키워드를 사용하는 일반 함수의 차이점은 정의하는 방식과 사용 용도\n",
        "*   def 키워드: 여러 줄로 정의, 재사용이 높음\n",
        "*   람다 함수: 한 줄로 표현, 즉시 사용할 수 있는 단순한 연산, 정의하는 동시에 사용\n",
        "\n",
        ">lambda 매개변수: 표현식\n",
        "\n",
        "* 매개변수: 쉼표로 구분하여 여러 개의 매개변수를 정의, 생략할 수도 있음\n",
        "* 표현식: 함수의 반환값을 결정하는 단일 표현식, 단 하나만 허용, 결과는 자동으로 함수의 반환값이 되므로 return 사용 안 함\n",
        "\n",
        "\n"
      ],
      "metadata": {
        "id": "331yMZRnRTiu"
      }
    },
    {
      "cell_type": "markdown",
      "source": [
        "#### 람다 함수 활용\n",
        "\n",
        "\n",
        "\n",
        "\n",
        "*   딕셔너리 구조에서 특정 값을 기준으로 변환\n",
        "\n",
        "\n",
        "1.   adjust_salary 람다 함수는 입력된 급여 값을 10% 증가시킨 값을 반환\n",
        "2.   딕셔너리 컴프리헨션을 활용하여 모든 직원의 급여를 조정\n",
        "\n",
        "\n"
      ],
      "metadata": {
        "id": "_FO03CRnbXBO"
      }
    },
    {
      "cell_type": "code",
      "execution_count": null,
      "metadata": {
        "id": "Syg5knhezIvV",
        "outputId": "f96dc194-940d-47b7-c6b1-bd73282fea23",
        "colab": {
          "base_uri": "https://localhost:8080/"
        }
      },
      "outputs": [
        {
          "output_type": "stream",
          "name": "stdout",
          "text": [
            "{'이지혜': 3300000.0000000005, '구민준': 5500000.0, '방서연': 4510000.0}\n"
          ]
        }
      ],
      "source": [
        "employees = {\n",
        "    '이지혜': 3000000,\n",
        "    '구민준': 5000000,\n",
        "    '방서연': 4100000\n",
        "}\n",
        "\n",
        "adjust_salary = lambda salary: salary * 1.1\n",
        "updated_salaries = {name: adjust_salary(salary) for name, salary in employees.items()}\n",
        "\n",
        "print(updated_salaries)"
      ]
    },
    {
      "cell_type": "markdown",
      "source": [
        "#### sorted() 함수를 통한 데이터 정렬의 예\n",
        "\n",
        "> sorted() 함수는 key 매개변수를 통해 정렬 기준을 지정할 수 있음"
      ],
      "metadata": {
        "id": "NBIMqMvPb3_O"
      }
    },
    {
      "cell_type": "code",
      "source": [
        "students = [\n",
        "    ('김지은', 85),\n",
        "    ('이민수', 92),\n",
        "    ('박서현', 78),\n",
        "    ('정준호', 88),\n",
        "    ('최유진', 95)\n",
        "]\n",
        "sorted_students = sorted(students, key=lambda student: student[1])\n",
        "\n",
        "print('성적 오름차순 정렬 결과:')\n",
        "for name, score in sorted_students:\n",
        "    print(f'{name}: {score}점')"
      ],
      "metadata": {
        "id": "Tre_hW84b7aV",
        "outputId": "e83c8314-1e47-4f80-e26c-b94a5fab1f17",
        "colab": {
          "base_uri": "https://localhost:8080/"
        }
      },
      "execution_count": null,
      "outputs": [
        {
          "output_type": "stream",
          "name": "stdout",
          "text": [
            "성적 오름차순 정렬 결과:\n",
            "박서현: 78점\n",
            "김지은: 85점\n",
            "정준호: 88점\n",
            "이민수: 92점\n",
            "최유진: 95점\n"
          ]
        }
      ]
    },
    {
      "cell_type": "markdown",
      "source": [
        "### 2.4.2 map, filter, reduce\n",
        "\n",
        "* 반복문을 사용하지 않고 리스트나 다른 반복 가능한 객체 요소를 손쉽게 조작 가능\n",
        "* 데이터 변환, 필터링, 누적 연산"
      ],
      "metadata": {
        "id": "UVfUrkwiRjB_"
      }
    },
    {
      "cell_type": "markdown",
      "source": [
        "#### map 함수\n",
        "\n",
        "\n",
        "\n",
        ">   map() 함수 - 반복 가능한 객체의 모든 요소에 특정 함수를 적용하여 새로운 값을 생성하는 함수\n",
        "\n",
        "*   리스트나 튜플 같은 자료구조의 요소를 변경할 때 유용\n",
        "\n"
      ],
      "metadata": {
        "id": "8gLunal_c4OP"
      }
    },
    {
      "cell_type": "markdown",
      "source": [
        "###### map 함수 사용 예 (1)\n",
        "\n",
        "\n",
        "\n",
        "1.   temperature_celsius 리스트 정의\n",
        "2.   섭씨 온도를 인자로 받아서 화씨 온도로 변환하는 람다함수 celsius_to_fahrenheit 정의\n",
        "3. map() 함수는 적용할 함수와 반복 가능한 객체인 리스트를 매개변수로 받아, 리스트의 각 요소에 지정된 함수를 적용한 결과를 반환\n",
        "4. map() 함수의 결과는 map 객체이므로 list() 함수를 사용하여 리스트로 변환 후 temperature_fahrenheit에 저장\n"
      ],
      "metadata": {
        "id": "nYGgA5LzeXde"
      }
    },
    {
      "cell_type": "code",
      "execution_count": null,
      "metadata": {
        "id": "KM0psbppzIvV",
        "outputId": "08a5ad34-5cc2-4129-ed4e-6533fb599c07",
        "colab": {
          "base_uri": "https://localhost:8080/"
        }
      },
      "outputs": [
        {
          "output_type": "stream",
          "name": "stdout",
          "text": [
            "섭씨 온도 데이터: [25.6, 27.8, 30.5, 22.3, 28.9, 31.2, 24.7]\n",
            "화씨 온도로 변환: [78.08, 82.04, 86.9, 72.14, 84.02, 88.16, 76.46]\n"
          ]
        }
      ],
      "source": [
        "temperature_celsius = [25.6, 27.8, 30.5, 22.3, 28.9, 31.2, 24.7]\n",
        "\n",
        "# 함수 정의: 섭씨 -> 화씨\n",
        "celsius_to_fahrenheit = lambda c: (c *9/5) + 32\n",
        "\n",
        "# 온도 변환\n",
        "temperature_fahrenheit = list(map(celsius_to_fahrenheit, temperature_celsius))\n",
        "\n",
        "print('섭씨 온도 데이터:', temperature_celsius)\n",
        "print('화씨 온도로 변환:', temperature_fahrenheit)"
      ]
    },
    {
      "cell_type": "markdown",
      "source": [
        "###### map 함수 사용 예 (2)\n",
        "\n",
        "* 문자열 데이터 변환 시 유용\n",
        "\n",
        "1. map() 함수를 사용해 리스트의 각 단어에 람다 함수 lambda word: word.upper()를 적용 후 리스트로 변환"
      ],
      "metadata": {
        "id": "4mp3X9HSehfN"
      }
    },
    {
      "cell_type": "code",
      "execution_count": null,
      "metadata": {
        "id": "rG3nqqfDzIvW",
        "outputId": "d0f02c7b-8d2e-4709-832a-a39ae364699a",
        "colab": {
          "base_uri": "https://localhost:8080/"
        }
      },
      "outputs": [
        {
          "output_type": "stream",
          "name": "stdout",
          "text": [
            "['PYTHON', 'DATA', 'ANALYSIS']\n"
          ]
        }
      ],
      "source": [
        "words = ['python', 'data', 'analysis']\n",
        "\n",
        "# 함수 정의 및 대문자화\n",
        "uppercase_words = list(map(lambda word: word.upper(), words))\n",
        "\n",
        "print(uppercase_words)"
      ]
    },
    {
      "cell_type": "markdown",
      "source": [
        "###### map 함수 사용 예 (3)\n",
        "\n",
        "* 딕셔너리 데이터를 다룰 때 유용"
      ],
      "metadata": {
        "id": "bNvrqon2ei01"
      }
    },
    {
      "cell_type": "code",
      "execution_count": null,
      "metadata": {
        "id": "9tFlZojhzIvW",
        "outputId": "6405b530-d7cc-4e79-97e5-db7759f4c5fc",
        "colab": {
          "base_uri": "https://localhost:8080/"
        }
      },
      "outputs": [
        {
          "output_type": "stream",
          "name": "stdout",
          "text": [
            "\n",
            "급여 인상 후:\n",
            "김지원: 4,070,000원\n",
            "박민준: 7,700,000원\n",
            "이서연: 4,840,000원\n",
            "정현우: 3,850,000원\n"
          ]
        }
      ],
      "source": [
        "employees = [\n",
        "    {'name': '김지원', 'salary': 3700000},\n",
        "    {'name': '박민준', 'salary': 7000000},\n",
        "    {'name': '이서연', 'salary': 4400000},\n",
        "    {'name': '정현우', 'salary': 3500000}\n",
        "]\n",
        "\n",
        "updated_employees = list(map(lambda emp: {'name': emp['name'], 'salary': emp['salary']*1.1}, employees))\n",
        "\n",
        "print('\\n급여 인상 후:')\n",
        "\n",
        "for emp in updated_employees:\n",
        "    print(f'{emp['name']}: {int(emp['salary']):,}원')"
      ]
    },
    {
      "cell_type": "markdown",
      "source": [
        "#### filter 함수\n",
        "\n",
        "\n",
        ">   filter() 함수 - 리스트나 튜플 같은 반복 가능한 객체의 요소 중 특정 조건을 만족하는 요소만 남김\n",
        "*   전체 데이터가 아닌 일부 데이터에만 처리 요구\n",
        "* True/False를 반환하는 조건 함수를 첫 번째 인자로 받음\n",
        "* 반복 가능한 객체를 두 번째 인자로 받음\n",
        "* 해당 조건 함수가 true를 반환하는 요소만 새로운 컬렉션에 포함\n",
        "\n"
      ],
      "metadata": {
        "id": "0xcVd0yUdg4W"
      }
    },
    {
      "cell_type": "markdown",
      "source": [
        "###### filter 함수 사용 예 (1)\n",
        "\n",
        "\n",
        "\n",
        "1.   filter() 함수는 lambda x: x % 2 == 0가 짝수인 경우 True를 반환하는 람다 함수를 첫 번째 인자로 받음\n",
        "2.   두 번째 인자로 리스트를 받음\n",
        "3. filter() 함수는 해당 조건을 만족하는 요소만 새로운 리스트에 포함시킨 후 list() 함수를 사용하여 filter 객체에서 리스트로 변환\n",
        "\n"
      ],
      "metadata": {
        "id": "3FNGzC8bjNuf"
      }
    },
    {
      "cell_type": "code",
      "execution_count": null,
      "metadata": {
        "id": "WHQxVdiuzIvW",
        "outputId": "12d102ff-6861-47c4-b8ec-64e80651ccc2",
        "colab": {
          "base_uri": "https://localhost:8080/"
        }
      },
      "outputs": [
        {
          "output_type": "stream",
          "name": "stdout",
          "text": [
            "[10, 20, 30]\n"
          ]
        }
      ],
      "source": [
        "numbers = [10, 15, 20, 25, 30]\n",
        "# 짝수 필터링\n",
        "even_numbers = list(filter(lambda x: x % 2 == 0, numbers))\n",
        "\n",
        "print(even_numbers)"
      ]
    },
    {
      "cell_type": "markdown",
      "source": [
        "###### filter 함수 사용 예 (2)\n"
      ],
      "metadata": {
        "id": "ngq4Ncpmj7U-"
      }
    },
    {
      "cell_type": "code",
      "execution_count": null,
      "metadata": {
        "id": "1E-RQnBfzIvW",
        "outputId": "249d6b9f-09df-415a-8b21-c52a122a63ec",
        "colab": {
          "base_uri": "https://localhost:8080/"
        }
      },
      "outputs": [
        {
          "output_type": "stream",
          "name": "stdout",
          "text": [
            "70점 이상 합격한 학생 목록: \n",
            "이름: 김지원, 점수: 85\n",
            "이름: 박서연, 점수: 90\n",
            "이름: 최예은, 점수: 78\n"
          ]
        }
      ],
      "source": [
        "osda_students = [\n",
        "    {'name': '김지원', 'score': 85},\n",
        "    {'name': '이민준', 'score': 65},\n",
        "    {'name': '박서연', 'score': 90},\n",
        "    {'name': '정현우', 'score': 55},\n",
        "    {'name': '최예은', 'score': 78}\n",
        "]\n",
        "\n",
        "# 70점 이상 학생 목록 생성\n",
        "passed_students = list(filter(lambda student: student['score'] >=70, osda_students))\n",
        "\n",
        "print('70점 이상 합격한 학생 목록: ')\n",
        "for student in passed_students:\n",
        "    print(f'이름: {student[\"name\"]}, 점수: {student[\"score\"]}')"
      ]
    },
    {
      "cell_type": "markdown",
      "source": [
        "#### reduce 함수\n",
        "\n",
        "\n",
        "\n",
        "\n",
        "> reduce 함수() - 리스트나 튜플과 같은 반복 가능한 객체의 모든 요소를 누적하여 하나의 값으로 축소하는 함수\n",
        "*   여러 개의 데이터를 하나의 값으로 축약하여 표현\n",
        "* functools 모듈에서 제공, 3 단계로 동작\n",
        "\n",
        "1. 리스트 첫 번째와 두 번째 요소를 함수에 적용, 중간 결과를 생성\n",
        "2. 중간 결과와 리스트의 다음 요소를 함수에 적용\n",
        "3. 반복하여 최종적으로 하나의 값을 반환\n"
      ],
      "metadata": {
        "id": "R4dI1m-XknHO"
      }
    },
    {
      "cell_type": "markdown",
      "source": [
        "###### filter 함수 사용 예 (1)\n"
      ],
      "metadata": {
        "id": "JAqLG4JTmVr2"
      }
    },
    {
      "cell_type": "code",
      "source": [
        "from functools import reduce\n",
        "\n",
        "numbers = [3, 7, 2, 9, 5]\n",
        "# 누적 연산\n",
        "total_sum = reduce(lambda x, y: x + y, numbers)\n",
        "\n",
        "print(total_sum)"
      ],
      "metadata": {
        "id": "LGwX9eevmXvF",
        "outputId": "4a0fe133-bb09-4fc7-fe62-fc5ad60dcb91",
        "colab": {
          "base_uri": "https://localhost:8080/"
        }
      },
      "execution_count": null,
      "outputs": [
        {
          "output_type": "stream",
          "name": "stdout",
          "text": [
            "26\n"
          ]
        }
      ]
    },
    {
      "cell_type": "markdown",
      "source": [
        "###### filter 함수 사용 예 (2)\n",
        "\n",
        "* reduce() 함수에 의해 순차적으로 전체 요소와 각각 비교하는 방식으로 진행\n"
      ],
      "metadata": {
        "id": "bDofDDlRknOt"
      }
    },
    {
      "cell_type": "code",
      "execution_count": null,
      "metadata": {
        "id": "1sVaIuwFzIvW",
        "outputId": "0126c5ae-fa82-445b-c4fa-457224ec49e4",
        "colab": {
          "base_uri": "https://localhost:8080/"
        }
      },
      "outputs": [
        {
          "output_type": "stream",
          "name": "stdout",
          "text": [
            "9\n"
          ]
        }
      ],
      "source": [
        "from functools import reduce\n",
        "\n",
        "numbers = [3, 7, 2, 9, 5]\n",
        "# 최대값 생성\n",
        "max_value = reduce(lambda x, y: x if x > y else y, numbers)\n",
        "\n",
        "print(max_value)"
      ]
    }
  ],
  "metadata": {
    "colab": {
      "provenance": [],
      "include_colab_link": true
    },
    "kernelspec": {
      "display_name": "Python 3",
      "name": "python3"
    },
    "language_info": {
      "name": "python"
    }
  },
  "nbformat": 4,
  "nbformat_minor": 0
}