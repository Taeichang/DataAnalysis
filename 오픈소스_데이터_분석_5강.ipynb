{
  "nbformat": 4,
  "nbformat_minor": 0,
  "metadata": {
    "colab": {
      "provenance": [],
      "include_colab_link": true
    },
    "kernelspec": {
      "name": "python3",
      "display_name": "Python 3"
    },
    "language_info": {
      "name": "python"
    }
  },
  "cells": [
    {
      "cell_type": "markdown",
      "metadata": {
        "id": "view-in-github",
        "colab_type": "text"
      },
      "source": [
        "<a href=\"https://colab.research.google.com/github/Taeichang/DataAnalysis/blob/main/%EC%98%A4%ED%94%88%EC%86%8C%EC%8A%A4_%EB%8D%B0%EC%9D%B4%ED%84%B0_%EB%B6%84%EC%84%9D_5%EA%B0%95.ipynb\" target=\"_parent\"><img src=\"https://colab.research.google.com/assets/colab-badge.svg\" alt=\"Open In Colab\"/></a>"
      ]
    },
    {
      "cell_type": "markdown",
      "source": [
        "# 오픈소스 기반 데이터 분석 5강 - 데이터 저장"
      ],
      "metadata": {
        "id": "O4kC4JMknVnK"
      }
    },
    {
      "cell_type": "markdown",
      "source": [
        "## 3.4 데이터 수집 방법"
      ],
      "metadata": {
        "id": "-28s1BGF-i0r"
      }
    },
    {
      "cell_type": "markdown",
      "source": [
        "### 3.4.1 파일\n",
        "\n",
        "* 쉽게 생성하고 접근 가능\n",
        "* 운영체제에 관계 없이 호환성이 뛰어남\n",
        "* 대규모 데이터 처리에 비효율적\n",
        "* 순차적으로 데이터를 읽고 쓰는 방식 -> 입출력 속도 급격히 저하\n",
        "* 검색 기능 부족\n",
        "* 무결성과 보안 측면 취약"
      ],
      "metadata": {
        "id": "j2nlKi0f-o_B"
      }
    },
    {
      "cell_type": "markdown",
      "source": [
        "#### 1) CSV (Comma-Separated Values)\n",
        "\n",
        "* Pandas의 DataFrame 객체는 CSV 파일과 구조적으로 매우 유사\n",
        "\n",
        "> index = False - DataFrame의 인덱스가 불필요하게 저장되는 것을 방지\n"
      ],
      "metadata": {
        "id": "8DfV0cZLqj_s"
      }
    },
    {
      "cell_type": "code",
      "source": [
        "import pandas as pd\n",
        "\n",
        "data = {\n",
        "    'student_id': [101, 102, 103, 104, 105],\n",
        "    'database_score': [85, 76, 92, 63, 88],\n",
        "    'cloudcomputing_score': [78, 82, 95, 70, 84],\n",
        "    'python_score': [92, 78, 85, 75, 91],\n",
        "    'watch_rate': [0.95, 0.87, 0.99, 0.80, 0.93]\n",
        "}\n",
        "# DataFrame 생성\n",
        "df = pd.DataFrame(data)\n",
        "# CSV 형식 저장\n",
        "df.to_csv('student_analysis.csv', encoding = 'utf-8', index = False)"
      ],
      "metadata": {
        "id": "DztLRI9gW2lk"
      },
      "execution_count": 3,
      "outputs": []
    },
    {
      "cell_type": "markdown",
      "source": [
        "#### 2) JSON(JavaScript Object Notation)\n",
        "\n",
        "* 계층 구조를 가진 데이터를 저장하는데 유용\n",
        "\n",
        "> json.dump - 첫번째 인자로 저장할 데이터 넘김, 두번째 인자로 파일 객체 전달해 파일에 기록\n",
        "\n",
        "> indent = 4 - 들여쓰기 설정\n",
        "\n",
        "> ensure_ascii = False / force_ascii = False - 한글이 유니코드로 변환되는 것을 방지\n",
        "\n",
        "> orient 옵션에 따라서 저장되는 값이 달라짐"
      ],
      "metadata": {
        "id": "CSABzaf3q8XU"
      }
    },
    {
      "cell_type": "code",
      "source": [
        "### 라이브러리 임포트\n",
        "import json\n",
        "import pandas as pd\n",
        "\n",
        "data = {\n",
        "    \"이름\": \"홍길동\",\n",
        "    \"나이\": 25,\n",
        "    \"거주지\": \"서울\",\n",
        "    \"관심사\": [\"프로그래밍\", \"데이터 분석\", \"여행\"]\n",
        "}\n",
        "\n",
        "# json.dump를 이용한 저장\n",
        "with open('output.json', 'w', encoding = 'utf-8') as f:\n",
        "    json.dump(data, f, indent = 4, ensure_ascii = False)\n",
        "# 그대로 읽기: DataFrame을 이용한 저장\n",
        "df = pd.DataFrame(data)\n",
        "# 관심사 값이 3개, 3행에 대한 데이터를 객체로 만들어서 표현 (차이점 알아두기)\n",
        "df.to_json('output_df.json', orient = 'records', indent = 4, force_ascii = False)\n",
        "\n",
        "# 리스트로 읽기:data는 하나의 객체에 여러개 정, 리스트로 묶어줘야 정상적으로 칼럼이 분절\n",
        "# df = pd.DataFrame([data])\n"
      ],
      "metadata": {
        "id": "7bAgRpizW7Vj"
      },
      "execution_count": 8,
      "outputs": []
    },
    {
      "cell_type": "markdown",
      "source": [
        "### 3.4.2 데이터베이스"
      ],
      "metadata": {
        "id": "MDs0_208laay"
      }
    },
    {
      "cell_type": "markdown",
      "source": [
        "\n",
        "\n",
        "*   대량의 데이터를 일정한 구조에 맞게 정리하여 보관\n",
        "*   원하는 데이터를 신속하게 검색하거나 수정\n",
        "\n",
        "\n",
        "\n",
        "*   관계형 데이터베이스(RDBMS)\n",
        "    *   데이터베이스를 테이블 형태로 저장\n",
        "    *   행 - 하나의 데이터 기록\n",
        "    *   열 - 데이터의 속성\n",
        "    * SQL, MySQL, PostgreSQL, Oracle, SQLServer  \n",
        "*   비관계형 데이터베이스(NoSQL)\n",
        "    * 문서 형태, 키와 값의 쌍, 그래프 등 비정형 데이처를 저장\n",
        "    * 각 시스템에서 제공하는 명령어나 API를 통해 데이터를 조작\n",
        "    * SQL 사용하지 않음, MongoDB, Cassandra, Redis, Elasticsearch\n",
        "    * 검색어 자동완성, 실시간 데이터 분석처럼 대량의 데이터를 빠르게 처리할 때 적합\n",
        "    * 분산처리와 확장성 측면에서 강점\n",
        "\n",
        "\n"
      ],
      "metadata": {
        "id": "gHAOrh2KlcoS"
      }
    },
    {
      "cell_type": "markdown",
      "source": [
        "## 3.5 Pandas의 DataFrame 이해 및 활용"
      ],
      "metadata": {
        "id": "NMlsQDHtrA_x"
      }
    },
    {
      "cell_type": "markdown",
      "source": [
        "### 3.5.1 DataFrame의 구성 요소\n",
        "\n",
        "* 2차원 데이블 형태의 자료구조\n",
        "* 값, 인덱스, 컬럼\n",
        "\n",
        "> set_index() - 특정 행을 빠르게 찾아냄, 데이터를 효율적으로 저장\n",
        "\n",
        "* Pandas에서\n",
        "    * 열 이름을 인덱스 처럼 다룰 수 있음\n",
        "    * 데이터 필터링과 열 순서 재배치 가능\n",
        "\n",
        "* 데이터 - DataFrame 내부에 저장된 실제값\n",
        "    * NumPy 배열 형태로 저장\n",
        "    * 문자열, 날짜, 논리값 등 다양한 형태"
      ],
      "metadata": {
        "id": "AkbMWxs5_V8F"
      }
    },
    {
      "cell_type": "code",
      "source": [
        "import pandas as pd\n",
        "\n",
        "data = {\n",
        "    \"이름\": [\"김철수\", \"이영희\", \"박민수\", \"최지훈\", \"정소희\"],\n",
        "    \"학년\": [1, 2, 3, 4, 2],\n",
        "    \"학점\": [4.2, 3.8, 4.5, 3.9, 3.5],\n",
        "    \"학과\": [\"컴퓨터학\", \"경영학\", \"농학\", \"교육학\", \"영어영문학\"],\n",
        "    \"동아리\": [\"프로그래밍\", \"독서토론\", \"로봇공학\", \"봉사활동\", \"음악감상\"]\n",
        "}\n",
        "df = pd.DataFrame(data)\n",
        "\n",
        "# DataFrame 인덱스 출력\n",
        "print('index: \\n', df.index)\n",
        "# DataFrame 컬럼 출력\n",
        "print('\\ncolumns:\\n', df.columns)\n",
        "# DataFrame 행 출력\n",
        "# NumPy Array형\n",
        "print('\\nvalues(NumPy Array형):\\n', df.values)\n",
        "# 구조화 되어있는 걸 뭉개고 값을 각각 나열\n",
        "print('\\nvalues(flatten):\\n', df.values.flatten())\n",
        "# 파이썬 리스트 형태\n",
        "print('\\nvalues(tolist):\\n', df.values.tolist())\n",
        "# DataFrame 값 출력\n",
        "print('\\nrows:\\n', df.values.tolist())"
      ],
      "metadata": {
        "id": "dk3xneVAW9_g",
        "outputId": "25a3e8d6-103d-4b45-e1b0-d4df2a27b254",
        "colab": {
          "base_uri": "https://localhost:8080/"
        }
      },
      "execution_count": 15,
      "outputs": [
        {
          "output_type": "stream",
          "name": "stdout",
          "text": [
            "index: \n",
            " RangeIndex(start=0, stop=5, step=1)\n",
            "\n",
            "columns:\n",
            " Index(['이름', '학년', '학점', '학과', '동아리'], dtype='object')\n",
            "\n",
            "values(NumPy Array형):\n",
            " [['김철수' 1 4.2 '컴퓨터학' '프로그래밍']\n",
            " ['이영희' 2 3.8 '경영학' '독서토론']\n",
            " ['박민수' 3 4.5 '농학' '로봇공학']\n",
            " ['최지훈' 4 3.9 '교육학' '봉사활동']\n",
            " ['정소희' 2 3.5 '영어영문학' '음악감상']]\n",
            "\n",
            "values(flatten):\n",
            " ['김철수' 1 4.2 '컴퓨터학' '프로그래밍' '이영희' 2 3.8 '경영학' '독서토론' '박민수' 3 4.5 '농학'\n",
            " '로봇공학' '최지훈' 4 3.9 '교육학' '봉사활동' '정소희' 2 3.5 '영어영문학' '음악감상']\n",
            "\n",
            "values(tolist):\n",
            " [['김철수', 1, 4.2, '컴퓨터학', '프로그래밍'], ['이영희', 2, 3.8, '경영학', '독서토론'], ['박민수', 3, 4.5, '농학', '로봇공학'], ['최지훈', 4, 3.9, '교육학', '봉사활동'], ['정소희', 2, 3.5, '영어영문학', '음악감상']]\n",
            "\n",
            "rows:\n",
            " [['김철수', 1, 4.2, '컴퓨터학', '프로그래밍'], ['이영희', 2, 3.8, '경영학', '독서토론'], ['박민수', 3, 4.5, '농학', '로봇공학'], ['최지훈', 4, 3.9, '교육학', '봉사활동'], ['정소희', 2, 3.5, '영어영문학', '음악감상']]\n"
          ]
        }
      ]
    },
    {
      "cell_type": "markdown",
      "source": [
        "### 3.5.2 DataFrame의 생성\n",
        "\n",
        "\n",
        "* 다양한 데이터 소스로부터 변환 작업을 수행\n",
        "* from으로 시작 (파일에서 생성하는 경우 일부는 read로 시작) p. 130"
      ],
      "metadata": {
        "id": "ILJd1GLoseqm"
      }
    },
    {
      "cell_type": "code",
      "source": [
        "import pandas as pd\n",
        "import json\n",
        "\n",
        "data = {\n",
        "    \"이름\": [\"김철수\", \"이영희\", \"박민수\", \"최지훈\", \"정소희\"],\n",
        "    \"학년\": [1, 2, 3, 4, 2],\n",
        "    \"학점\": [4.2, 3.8, 4.5, 3.9, 3.5],\n",
        "    \"학과\": [\"컴퓨터공학\", \"경영학\", \"전자공학\", \"의학\", \"심리학\"],\n",
        "    \"동아리\": [\"프로그래밍\", \"독서토론\", \"로봇공학\", \"봉사활동\", \"음악감상\"]\n",
        "}\n",
        "\n",
        "# 딕셔너리, csv, json으로 부터 DataFrame 생성\n",
        "df1 = pd.DataFrame.from_dict(data)\n",
        "df2 = pd.read_csv('students.csv', encoding = 'utf-8')\n",
        "df3 = pd.read_json('students.json')\n",
        "\n",
        "# 세가지 방법 결과 비교\n",
        "print(df1.shape)\n",
        "print(df2.shape)\n",
        "print(df3.shape)"
      ],
      "metadata": {
        "id": "ISnPLEgNXAmi",
        "outputId": "d43d8e23-b1d6-4c31-be4d-c270b1fce058",
        "colab": {
          "base_uri": "https://localhost:8080/"
        }
      },
      "execution_count": 16,
      "outputs": [
        {
          "output_type": "stream",
          "name": "stdout",
          "text": [
            "(5, 5)\n",
            "(5, 5)\n",
            "(5, 5)\n"
          ]
        }
      ]
    },
    {
      "cell_type": "markdown",
      "source": [
        "### 3.5.3 DataFrame의 저장\n",
        "\n",
        "\n",
        "* DataFrame의 내용을 각기 다른 파일 형식이나 데이터 구조로 변환하여 저장\n",
        "* to_로 시작 p. 131\n"
      ],
      "metadata": {
        "id": "z1N6lAnwsdyU"
      }
    },
    {
      "cell_type": "code",
      "source": [
        "import pandas as pd\n",
        "\n",
        "data = {\n",
        "    \"이름\": [\"김철수\", \"이영희\", \"박민수\", \"최지훈\", \"정소희\"],\n",
        "    \"학년\": [1, 2, 3, 4, 2],\n",
        "    \"학점\": [4.2, 3.8, 4.5, 3.9, 3.5],\n",
        "    \"학과\": [\"컴퓨터공학\", \"경영학\", \"전자공학\", \"의학\", \"심리학\"],\n",
        "    \"동아리\": [\"프로그래밍\", \"독서토론\", \"로봇공학\", \"봉사활동\", \"음악감상\"]\n",
        "}\n",
        "\n",
        "# Dataframe 생성\n",
        "df = pd.DataFrame.from_dict(data, orient = 'index')\n",
        "\n",
        "# CSV, JSON 형식으로 저장\n",
        "df.to_csv('students_scores.csv', encoding = 'utf-8', index = False)\n",
        "df.to_json('students_scores.json', orient = 'records', indent = 4, force_ascii = False)\n",
        "\n",
        "# HTML 형식으로 저장\n",
        "html_table = df.to_html()\n",
        "with open('students_scores.html', 'w', encoding = 'utf-8') as f:\n",
        "    f.write(html_table)"
      ],
      "metadata": {
        "id": "_dqoWCRoXDrJ"
      },
      "execution_count": 27,
      "outputs": []
    },
    {
      "cell_type": "markdown",
      "source": [
        "## 3.6 개념 정리 실습"
      ],
      "metadata": {
        "id": "ifBFAyulsdJb"
      }
    },
    {
      "cell_type": "markdown",
      "source": [
        "### 대기오염 정보를 요청하고 받아오는 전체 과정\n",
        "\n",
        "* Requests 라이브러리를 임포트하여 HTTP 요청을 수행할 수 있도록 준비\n",
        "* API 요청에 필요한 매개변수들은 params라는 딕셔너리에 담아 관리\n",
        "* 실제 API 호출은 Requests 라이브러리의 get() 사용"
      ],
      "metadata": {
        "id": "muFj6okKyXy6"
      }
    },
    {
      "cell_type": "markdown",
      "source": [
        "* 요청주소 - API 특정 가능을 실행하기 위한 웹주소\n",
        "* 요청병수 - API 실행 시 필요한 조건을 지정하는 매개변수\n",
        "* 서비스키(serviceKey) - 활용 신청 시 발급 받은 일반 인증키(decoding) 사용\n",
        "* 데이터표출형식(returnType) - josn 형식\n",
        "* numOfRows - 파라미터를 통해 100개로 설정\n",
        "* pageNo - 데이터의 페이지를 나타냄\n"
      ],
      "metadata": {
        "id": "t10Z-TNnWedS"
      }
    },
    {
      "cell_type": "code",
      "source": [
        "import requests\n",
        "\n",
        "url = \"http://apis.data.go.kr/B552584/ArpltnInforInqireSvc/getMinuDustFrcstDspth\"\n",
        "api_key = '[발급받은 인증키]'\n",
        "\n",
        "params = {\n",
        "    'serviceKey': api_key,\n",
        "    'returnType': 'json',\n",
        "    'numOfRows': '100',\n",
        "    'pageNo': '1',\n",
        "    'sidoName': '서울',\n",
        "    'ver': '1.0'\n",
        "}\n",
        "\n",
        "## 데이터 수집\n",
        "response = requests.get(url, params = params)\n",
        "\n",
        "## 호출 성공/실패 출력\n",
        "if response.status_code == 200:\n",
        "    print('API 호출 성공')\n",
        "    print(response.json())\n",
        "else:\n",
        "    print(f'API 호출 실패: {response.status_code}')\n"
      ],
      "metadata": {
        "id": "7yCozmQeXJcO"
      },
      "execution_count": null,
      "outputs": []
    },
    {
      "cell_type": "markdown",
      "source": [
        "### DataFrame으로 변환\n",
        "\n",
        "* 필요한 정보가 있는 부분을 지정해서 변환"
      ],
      "metadata": {
        "id": "d6mT4IxkySzI"
      }
    },
    {
      "cell_type": "code",
      "source": [
        "import pandas as pd\n",
        "\n",
        "## requests로부터 response, body, item 항목 읽기\n",
        "data = response.json(['response']['body']['items'])\n",
        "print(type(data))\n",
        "print(len(data))\n",
        "df = pd.DataFrame(data)\n",
        "print(df.head())\n",
        "# 인덱싱 작업\n",
        "# df['특정 칼럼/열']"
      ],
      "metadata": {
        "id": "fRDvkD7a_Z1v"
      },
      "execution_count": null,
      "outputs": []
    },
    {
      "cell_type": "markdown",
      "source": [
        "### DataFrame을 다양한 형식의 파일로 저장하기\n"
      ],
      "metadata": {
        "id": "vVG0HYb0ymeM"
      }
    },
    {
      "cell_type": "code",
      "source": [
        "df.to_csv('air_pollution.csv', index=False, encoding='utf-8')\n",
        "\n",
        "# JSON 형식 데이터 저장\n",
        "df.to_json('air_pollution.json', orient = 'records', indent = 4, force_ascii = False)\n",
        "\n",
        "# EXCEL 형식 데이터 저장\n",
        "df.to_excel('air_pollution.xlsx', index = False)\n",
        "\n",
        "# 파이썬 전용 형식 (호환성 떨어짐)\n",
        "df.to_pickle('air_pollution'.pkl)\n",
        "\n",
        "# HTML 형식 데이터 저장\n",
        "# 앞전에는 HTML 스트링으로 바꾸고 파일 열어서 했음\n",
        "df.to_html('air_pollution.html')"
      ],
      "metadata": {
        "id": "HW1ZodpgXNhG"
      },
      "execution_count": null,
      "outputs": []
    }
  ]
}