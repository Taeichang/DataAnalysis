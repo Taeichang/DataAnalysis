{
  "nbformat": 4,
  "nbformat_minor": 0,
  "metadata": {
    "colab": {
      "provenance": [],
      "include_colab_link": true
    },
    "kernelspec": {
      "name": "python3",
      "display_name": "Python 3"
    },
    "language_info": {
      "name": "python"
    }
  },
  "cells": [
    {
      "cell_type": "markdown",
      "metadata": {
        "id": "view-in-github",
        "colab_type": "text"
      },
      "source": [
        "<a href=\"https://colab.research.google.com/github/Taeichang/DataAnalysis/blob/main/%EC%98%A4%ED%94%88%EC%86%8C%EC%8A%A4_%EB%8D%B0%EC%9D%B4%ED%84%B0_%EB%B6%84%EC%84%9D_7%EA%B0%95.ipynb\" target=\"_parent\"><img src=\"https://colab.research.google.com/assets/colab-badge.svg\" alt=\"Open In Colab\"/></a>"
      ]
    },
    {
      "cell_type": "markdown",
      "source": [
        "# 오픈소스 기반 데이터 분석 7강 - 데이터 전처리 2"
      ],
      "metadata": {
        "id": "tqffk7GTHWSs"
      }
    },
    {
      "cell_type": "markdown",
      "source": [
        "## 4.3 Pandas를 이용한 데이터 정제"
      ],
      "metadata": {
        "id": "ZeFrCuWJSGe-"
      }
    },
    {
      "cell_type": "markdown",
      "source": [
        "### 4.3.1 결측치 찾기\n",
        "\n",
        "* 결측치는 데이터에 값이 존재하지 않을 경우를 의미\n",
        "* Pandas에서는 주로 NaN(Not a Number)로 표현"
      ],
      "metadata": {
        "id": "5DOeakEiHfq1"
      }
    },
    {
      "cell_type": "markdown",
      "source": [
        "#### insull()과 insa() 메서드를 사용한 결측치 확인\n",
        "\n",
        "> isnull() - 각 요소가 결측치인지 여부를 나타내는 불리언 DataFrame 반환\n",
        "\n",
        "> isna() - isnull()과 동일한 기능 수행\n",
        "\n",
        "> sum() - 각 열의 결측치 개수 계산, 어떤 열에 집중되어 있는지 빠르게 확인\n",
        "\n",
        "> sum(axis=1) 매개변수 - 행별 결측치 개수\n",
        "\n",
        "> any() - isnull() 메서드와 함께 사용함, 데이터셋 결측치 존재 여부를 불리언 값으로 확인, 하라나도 존재 시 True, 모두 채워져 있을 경우 False\n",
        "\n",
        "> df[df.isnull().any(axis=1) - 하나 이상의 결측지를 포함한 행만 쉽게 추출\n",
        "\n",
        "> notnull() - insull() 반대의 결과, 값이 존재하는 항목 확인\n",
        "\n",
        "> DataFrame의 shape 속성을 사용하여 전체 데이터 요소의 수 계산, 결측치 차지 비율 백분율로 표시"
      ],
      "metadata": {
        "id": "yOSJon6FSf5s"
      }
    },
    {
      "cell_type": "code",
      "source": [
        "import pandas as pd\n",
        "import numpy as np\n",
        "\n",
        "data = {'이름': ['김철수', '이영희', '박민수', '최지훈', '정소희'],\n",
        "        '나이': [25, 30, np.nan, 22, 35],\n",
        "        '도시': ['서울', None, '인천', '서울', '대전'],\n",
        "        '점수': [90, 85, np.nan, 80, 92]}\n",
        "\n",
        "df = pd.DataFrame(data)\n",
        "\n",
        "# 결측치 여부 확인\n",
        "print('\\n1. 결측치 여부 확인 (isnull):\\n', df.isnull())\n",
        "print('\\n2. 결측치 여부 확인 (isna):\\n', df.isna())\n",
        "\n",
        "# 열별, 행별 결측치 개수 확인\n",
        "print('\\n3. 열별 결측치 개수:\\n', df.isnull().sum())\n",
        "print('\\n4. 행별 결측치 개수:\\n', df.isnull().sum(axis = 1))\n",
        "\n",
        "# 특정 열, 행 결측치 확인\n",
        "print('\\n5. 결측치가 있는 행:\\n', df[df.isnull().sum(axis = 1)])\n",
        "print('\\n6. '나이'에 결측치가 있는 행:\\n', df[df['나이'].isnull()])\n",
        "\n",
        "# 결측치가 아닌 항목 확인\n",
        "print('\\n7. 결측치가 아닌 항목 확인 (notnull):\\n', df.notnull())\n",
        "\n",
        "# 결측치 비율\n",
        "missing_percentage = df.isnull().sum().sum() / (df.shape[0] * df.shape[1]) * 100\n",
        "print(f'\\n8. 전체 데이터 중 결측치 비율: {missing_percentage:.2f}%')"
      ],
      "metadata": {
        "id": "tA9rA_leY5Du",
        "colab": {
          "base_uri": "https://localhost:8080/",
          "height": 942
        },
        "outputId": "5f8325b4-f3fc-4878-9087-be4883300bb3"
      },
      "execution_count": 3,
      "outputs": [
        {
          "output_type": "stream",
          "name": "stdout",
          "text": [
            "\n",
            "1. 결측치 여부 확인 (isnull):\n",
            "       이름     나이     도시     점수\n",
            "0  False  False  False  False\n",
            "1  False  False   True  False\n",
            "2  False   True  False   True\n",
            "3  False  False  False  False\n",
            "4  False  False  False  False\n",
            "\n",
            "2. 결측치 여부 확인 (isna):\n",
            "       이름     나이     도시     점수\n",
            "0  False  False  False  False\n",
            "1  False  False   True  False\n",
            "2  False   True  False   True\n",
            "3  False  False  False  False\n",
            "4  False  False  False  False\n",
            "\n",
            "3. 열별 결측치 개수:\n",
            " 이름    0\n",
            "나이    1\n",
            "도시    1\n",
            "점수    1\n",
            "dtype: int64\n",
            "\n",
            "4. 행별 결측치 개수:\n",
            " 0    0\n",
            "1    1\n",
            "2    2\n",
            "3    0\n",
            "4    0\n",
            "dtype: int64\n"
          ]
        },
        {
          "output_type": "error",
          "ename": "KeyError",
          "evalue": "\"None of [Index([0, 1, 2, 0, 0], dtype='int64')] are in the [columns]\"",
          "traceback": [
            "\u001b[0;31m---------------------------------------------------------------------------\u001b[0m",
            "\u001b[0;31mKeyError\u001b[0m                                  Traceback (most recent call last)",
            "\u001b[0;32m/tmp/ipython-input-958411566.py\u001b[0m in \u001b[0;36m<cell line: 0>\u001b[0;34m()\u001b[0m\n\u001b[1;32m     18\u001b[0m \u001b[0;34m\u001b[0m\u001b[0m\n\u001b[1;32m     19\u001b[0m \u001b[0;31m# 특정 열, 행 결측치 확인\u001b[0m\u001b[0;34m\u001b[0m\u001b[0;34m\u001b[0m\u001b[0m\n\u001b[0;32m---> 20\u001b[0;31m \u001b[0mprint\u001b[0m\u001b[0;34m(\u001b[0m\u001b[0;34m'\\n5. 결측치가 있는 행:\\n'\u001b[0m\u001b[0;34m,\u001b[0m \u001b[0mdf\u001b[0m\u001b[0;34m[\u001b[0m\u001b[0mdf\u001b[0m\u001b[0;34m.\u001b[0m\u001b[0misnull\u001b[0m\u001b[0;34m(\u001b[0m\u001b[0;34m)\u001b[0m\u001b[0;34m.\u001b[0m\u001b[0msum\u001b[0m\u001b[0;34m(\u001b[0m\u001b[0maxis\u001b[0m \u001b[0;34m=\u001b[0m \u001b[0;36m1\u001b[0m\u001b[0;34m)\u001b[0m\u001b[0;34m]\u001b[0m\u001b[0;34m)\u001b[0m\u001b[0;34m\u001b[0m\u001b[0;34m\u001b[0m\u001b[0m\n\u001b[0m\u001b[1;32m     21\u001b[0m \u001b[0;31m#rint('\\n6. '나이'에 결측치가 있는 행:\\n', df[df['나이'].isnull()])\u001b[0m\u001b[0;34m\u001b[0m\u001b[0;34m\u001b[0m\u001b[0m\n\u001b[1;32m     22\u001b[0m \u001b[0;34m\u001b[0m\u001b[0m\n",
            "\u001b[0;32m/usr/local/lib/python3.12/dist-packages/pandas/core/frame.py\u001b[0m in \u001b[0;36m__getitem__\u001b[0;34m(self, key)\u001b[0m\n\u001b[1;32m   4106\u001b[0m             \u001b[0;32mif\u001b[0m \u001b[0mis_iterator\u001b[0m\u001b[0;34m(\u001b[0m\u001b[0mkey\u001b[0m\u001b[0;34m)\u001b[0m\u001b[0;34m:\u001b[0m\u001b[0;34m\u001b[0m\u001b[0;34m\u001b[0m\u001b[0m\n\u001b[1;32m   4107\u001b[0m                 \u001b[0mkey\u001b[0m \u001b[0;34m=\u001b[0m \u001b[0mlist\u001b[0m\u001b[0;34m(\u001b[0m\u001b[0mkey\u001b[0m\u001b[0;34m)\u001b[0m\u001b[0;34m\u001b[0m\u001b[0;34m\u001b[0m\u001b[0m\n\u001b[0;32m-> 4108\u001b[0;31m             \u001b[0mindexer\u001b[0m \u001b[0;34m=\u001b[0m \u001b[0mself\u001b[0m\u001b[0;34m.\u001b[0m\u001b[0mcolumns\u001b[0m\u001b[0;34m.\u001b[0m\u001b[0m_get_indexer_strict\u001b[0m\u001b[0;34m(\u001b[0m\u001b[0mkey\u001b[0m\u001b[0;34m,\u001b[0m \u001b[0;34m\"columns\"\u001b[0m\u001b[0;34m)\u001b[0m\u001b[0;34m[\u001b[0m\u001b[0;36m1\u001b[0m\u001b[0;34m]\u001b[0m\u001b[0;34m\u001b[0m\u001b[0;34m\u001b[0m\u001b[0m\n\u001b[0m\u001b[1;32m   4109\u001b[0m \u001b[0;34m\u001b[0m\u001b[0m\n\u001b[1;32m   4110\u001b[0m         \u001b[0;31m# take() does not accept boolean indexers\u001b[0m\u001b[0;34m\u001b[0m\u001b[0;34m\u001b[0m\u001b[0m\n",
            "\u001b[0;32m/usr/local/lib/python3.12/dist-packages/pandas/core/indexes/base.py\u001b[0m in \u001b[0;36m_get_indexer_strict\u001b[0;34m(self, key, axis_name)\u001b[0m\n\u001b[1;32m   6198\u001b[0m             \u001b[0mkeyarr\u001b[0m\u001b[0;34m,\u001b[0m \u001b[0mindexer\u001b[0m\u001b[0;34m,\u001b[0m \u001b[0mnew_indexer\u001b[0m \u001b[0;34m=\u001b[0m \u001b[0mself\u001b[0m\u001b[0;34m.\u001b[0m\u001b[0m_reindex_non_unique\u001b[0m\u001b[0;34m(\u001b[0m\u001b[0mkeyarr\u001b[0m\u001b[0;34m)\u001b[0m\u001b[0;34m\u001b[0m\u001b[0;34m\u001b[0m\u001b[0m\n\u001b[1;32m   6199\u001b[0m \u001b[0;34m\u001b[0m\u001b[0m\n\u001b[0;32m-> 6200\u001b[0;31m         \u001b[0mself\u001b[0m\u001b[0;34m.\u001b[0m\u001b[0m_raise_if_missing\u001b[0m\u001b[0;34m(\u001b[0m\u001b[0mkeyarr\u001b[0m\u001b[0;34m,\u001b[0m \u001b[0mindexer\u001b[0m\u001b[0;34m,\u001b[0m \u001b[0maxis_name\u001b[0m\u001b[0;34m)\u001b[0m\u001b[0;34m\u001b[0m\u001b[0;34m\u001b[0m\u001b[0m\n\u001b[0m\u001b[1;32m   6201\u001b[0m \u001b[0;34m\u001b[0m\u001b[0m\n\u001b[1;32m   6202\u001b[0m         \u001b[0mkeyarr\u001b[0m \u001b[0;34m=\u001b[0m \u001b[0mself\u001b[0m\u001b[0;34m.\u001b[0m\u001b[0mtake\u001b[0m\u001b[0;34m(\u001b[0m\u001b[0mindexer\u001b[0m\u001b[0;34m)\u001b[0m\u001b[0;34m\u001b[0m\u001b[0;34m\u001b[0m\u001b[0m\n",
            "\u001b[0;32m/usr/local/lib/python3.12/dist-packages/pandas/core/indexes/base.py\u001b[0m in \u001b[0;36m_raise_if_missing\u001b[0;34m(self, key, indexer, axis_name)\u001b[0m\n\u001b[1;32m   6247\u001b[0m         \u001b[0;32mif\u001b[0m \u001b[0mnmissing\u001b[0m\u001b[0;34m:\u001b[0m\u001b[0;34m\u001b[0m\u001b[0;34m\u001b[0m\u001b[0m\n\u001b[1;32m   6248\u001b[0m             \u001b[0;32mif\u001b[0m \u001b[0mnmissing\u001b[0m \u001b[0;34m==\u001b[0m \u001b[0mlen\u001b[0m\u001b[0;34m(\u001b[0m\u001b[0mindexer\u001b[0m\u001b[0;34m)\u001b[0m\u001b[0;34m:\u001b[0m\u001b[0;34m\u001b[0m\u001b[0;34m\u001b[0m\u001b[0m\n\u001b[0;32m-> 6249\u001b[0;31m                 \u001b[0;32mraise\u001b[0m \u001b[0mKeyError\u001b[0m\u001b[0;34m(\u001b[0m\u001b[0;34mf\"None of [{key}] are in the [{axis_name}]\"\u001b[0m\u001b[0;34m)\u001b[0m\u001b[0;34m\u001b[0m\u001b[0;34m\u001b[0m\u001b[0m\n\u001b[0m\u001b[1;32m   6250\u001b[0m \u001b[0;34m\u001b[0m\u001b[0m\n\u001b[1;32m   6251\u001b[0m             \u001b[0mnot_found\u001b[0m \u001b[0;34m=\u001b[0m \u001b[0mlist\u001b[0m\u001b[0;34m(\u001b[0m\u001b[0mensure_index\u001b[0m\u001b[0;34m(\u001b[0m\u001b[0mkey\u001b[0m\u001b[0;34m)\u001b[0m\u001b[0;34m[\u001b[0m\u001b[0mmissing_mask\u001b[0m\u001b[0;34m.\u001b[0m\u001b[0mnonzero\u001b[0m\u001b[0;34m(\u001b[0m\u001b[0;34m)\u001b[0m\u001b[0;34m[\u001b[0m\u001b[0;36m0\u001b[0m\u001b[0;34m]\u001b[0m\u001b[0;34m]\u001b[0m\u001b[0;34m.\u001b[0m\u001b[0munique\u001b[0m\u001b[0;34m(\u001b[0m\u001b[0;34m)\u001b[0m\u001b[0;34m)\u001b[0m\u001b[0;34m\u001b[0m\u001b[0;34m\u001b[0m\u001b[0m\n",
            "\u001b[0;31mKeyError\u001b[0m: \"None of [Index([0, 1, 2, 0, 0], dtype='int64')] are in the [columns]\""
          ]
        }
      ]
    },
    {
      "cell_type": "markdown",
      "source": [
        "#### 시각화 도구를 활용한 결측치 패턴 파악  \n",
        "\n",
        "> Seaborn의 heatmap() - 결측치의 분포를 직관적으로 표현, 어떤 패턴으로 발생하는지 파악\n",
        "\n",
        "\n",
        "> missingno의 matrix() - 결측치 패턴을 시각화, 데이터 누락 여부를 행렬로 표현"
      ],
      "metadata": {
        "id": "UiGS85_HHu7U"
      }
    },
    {
      "cell_type": "markdown",
      "source": [
        "\n",
        "* sns.heatmap(df.isnull()) 통해 df의 결측치 여부를 색상으로 표현"
      ],
      "metadata": {
        "id": "IyirDR6qkzfS"
      }
    },
    {
      "cell_type": "code",
      "source": [
        "!sudo apt-get install -y fonts-nanum\n",
        "!sudo fc-cache –fv\n",
        "!rm ~/.cache/matplotlib -rf"
      ],
      "metadata": {
        "id": "TlNVxZS9aQFy",
        "colab": {
          "base_uri": "https://localhost:8080/"
        },
        "outputId": "971bb7cc-ea3a-44e2-ece0-a28886d31d2e"
      },
      "execution_count": 9,
      "outputs": [
        {
          "output_type": "stream",
          "name": "stdout",
          "text": [
            "Reading package lists... Done\n",
            "Building dependency tree... Done\n",
            "Reading state information... Done\n",
            "fonts-nanum is already the newest version (20200506-1).\n",
            "0 upgraded, 0 newly installed, 0 to remove and 38 not upgraded.\n"
          ]
        }
      ]
    },
    {
      "cell_type": "code",
      "source": [
        "import matplotlib.pyplot as plt\n",
        "plt.rc('font', family='NanumBarunGothic')"
      ],
      "metadata": {
        "id": "3XZ0mwCplvP5"
      },
      "execution_count": 7,
      "outputs": []
    },
    {
      "cell_type": "code",
      "source": [
        "import numpy as np\n",
        "import pandas as pd\n",
        "\n",
        "# 시각화 라이브러리 임포트\n",
        "import seaborn as sns\n",
        "import missingno as msno\n",
        "\n",
        "data = {'이름': ['김철수', '이영희', '박민수', '최지훈', '정소희'],\n",
        "        '나이': [25, 30, np.nan, 22, 35],\n",
        "        '도시': ['서울', None, '인천', '서울', '대전'],\n",
        "        '점수': [90, 85, np.nan, 80, 92]}\n",
        "df = pd.DataFrame(data)\n",
        "\n",
        "# 결측치 히트맵\n",
        "plt.figure(figsize = (8, 6))\n",
        "sns.heatmap(df.isnull(), cbar=False)\n",
        "plt.title(\"결측치 히트맵\")\n",
        "plt.show()\n",
        "\n",
        "# 결측치 매트릭스\n",
        "msno.matrix(df, figsize = (4, 6))\n",
        "plt.title(\"결측치 매트릭스\")\n",
        "plt.show()"
      ],
      "metadata": {
        "id": "DWhjSi4wY-P1",
        "colab": {
          "base_uri": "https://localhost:8080/",
          "height": 1000
        },
        "outputId": "71b8ac6e-653e-408d-c181-ff640f008c37"
      },
      "execution_count": 8,
      "outputs": [
        {
          "output_type": "stream",
          "name": "stderr",
          "text": [
            "WARNING:matplotlib.font_manager:findfont: Font family 'NanumBarunGothic' not found.\n",
            "WARNING:matplotlib.font_manager:findfont: Font family 'NanumBarunGothic' not found.\n",
            "/usr/local/lib/python3.12/dist-packages/seaborn/utils.py:61: UserWarning: Glyph 51060 (\\N{HANGUL SYLLABLE I}) missing from font(s) DejaVu Sans.\n",
            "  fig.canvas.draw()\n",
            "/usr/local/lib/python3.12/dist-packages/seaborn/utils.py:61: UserWarning: Glyph 47492 (\\N{HANGUL SYLLABLE REUM}) missing from font(s) DejaVu Sans.\n",
            "  fig.canvas.draw()\n",
            "WARNING:matplotlib.font_manager:findfont: Font family 'NanumBarunGothic' not found.\n",
            "/usr/local/lib/python3.12/dist-packages/seaborn/utils.py:61: UserWarning: Glyph 45208 (\\N{HANGUL SYLLABLE NA}) missing from font(s) DejaVu Sans.\n",
            "  fig.canvas.draw()\n",
            "WARNING:matplotlib.font_manager:findfont: Font family 'NanumBarunGothic' not found.\n",
            "/usr/local/lib/python3.12/dist-packages/seaborn/utils.py:61: UserWarning: Glyph 46020 (\\N{HANGUL SYLLABLE DO}) missing from font(s) DejaVu Sans.\n",
            "  fig.canvas.draw()\n",
            "/usr/local/lib/python3.12/dist-packages/seaborn/utils.py:61: UserWarning: Glyph 49884 (\\N{HANGUL SYLLABLE SI}) missing from font(s) DejaVu Sans.\n",
            "  fig.canvas.draw()\n",
            "WARNING:matplotlib.font_manager:findfont: Font family 'NanumBarunGothic' not found.\n",
            "/usr/local/lib/python3.12/dist-packages/seaborn/utils.py:61: UserWarning: Glyph 51216 (\\N{HANGUL SYLLABLE JEOM}) missing from font(s) DejaVu Sans.\n",
            "  fig.canvas.draw()\n",
            "/usr/local/lib/python3.12/dist-packages/seaborn/utils.py:61: UserWarning: Glyph 49688 (\\N{HANGUL SYLLABLE SU}) missing from font(s) DejaVu Sans.\n",
            "  fig.canvas.draw()\n",
            "WARNING:matplotlib.font_manager:findfont: Font family 'NanumBarunGothic' not found.\n",
            "WARNING:matplotlib.font_manager:findfont: Font family 'NanumBarunGothic' not found.\n",
            "WARNING:matplotlib.font_manager:findfont: Font family 'NanumBarunGothic' not found.\n",
            "WARNING:matplotlib.font_manager:findfont: Font family 'NanumBarunGothic' not found.\n",
            "WARNING:matplotlib.font_manager:findfont: Font family 'NanumBarunGothic' not found.\n",
            "WARNING:matplotlib.font_manager:findfont: Font family 'NanumBarunGothic' not found.\n",
            "WARNING:matplotlib.font_manager:findfont: Font family 'NanumBarunGothic' not found.\n",
            "WARNING:matplotlib.font_manager:findfont: Font family 'NanumBarunGothic' not found.\n",
            "WARNING:matplotlib.font_manager:findfont: Font family 'NanumBarunGothic' not found.\n",
            "WARNING:matplotlib.font_manager:findfont: Font family 'NanumBarunGothic' not found.\n",
            "WARNING:matplotlib.font_manager:findfont: Font family 'NanumBarunGothic' not found.\n",
            "WARNING:matplotlib.font_manager:findfont: Font family 'NanumBarunGothic' not found.\n",
            "WARNING:matplotlib.font_manager:findfont: Font family 'NanumBarunGothic' not found.\n",
            "WARNING:matplotlib.font_manager:findfont: Font family 'NanumBarunGothic' not found.\n",
            "WARNING:matplotlib.font_manager:findfont: Font family 'NanumBarunGothic' not found.\n",
            "WARNING:matplotlib.font_manager:findfont: Font family 'NanumBarunGothic' not found.\n",
            "/usr/local/lib/python3.12/dist-packages/IPython/core/pylabtools.py:151: UserWarning: Glyph 44208 (\\N{HANGUL SYLLABLE GYEOL}) missing from font(s) DejaVu Sans.\n",
            "  fig.canvas.print_figure(bytes_io, **kw)\n",
            "/usr/local/lib/python3.12/dist-packages/IPython/core/pylabtools.py:151: UserWarning: Glyph 52769 (\\N{HANGUL SYLLABLE CEUG}) missing from font(s) DejaVu Sans.\n",
            "  fig.canvas.print_figure(bytes_io, **kw)\n",
            "/usr/local/lib/python3.12/dist-packages/IPython/core/pylabtools.py:151: UserWarning: Glyph 52824 (\\N{HANGUL SYLLABLE CI}) missing from font(s) DejaVu Sans.\n",
            "  fig.canvas.print_figure(bytes_io, **kw)\n",
            "/usr/local/lib/python3.12/dist-packages/IPython/core/pylabtools.py:151: UserWarning: Glyph 55176 (\\N{HANGUL SYLLABLE HI}) missing from font(s) DejaVu Sans.\n",
            "  fig.canvas.print_figure(bytes_io, **kw)\n",
            "/usr/local/lib/python3.12/dist-packages/IPython/core/pylabtools.py:151: UserWarning: Glyph 53944 (\\N{HANGUL SYLLABLE TEU}) missing from font(s) DejaVu Sans.\n",
            "  fig.canvas.print_figure(bytes_io, **kw)\n",
            "/usr/local/lib/python3.12/dist-packages/IPython/core/pylabtools.py:151: UserWarning: Glyph 47605 (\\N{HANGUL SYLLABLE MAEB}) missing from font(s) DejaVu Sans.\n",
            "  fig.canvas.print_figure(bytes_io, **kw)\n",
            "WARNING:matplotlib.font_manager:findfont: Font family 'NanumBarunGothic' not found.\n",
            "WARNING:matplotlib.font_manager:findfont: Font family 'NanumBarunGothic' not found.\n",
            "WARNING:matplotlib.font_manager:findfont: Font family 'NanumBarunGothic' not found.\n",
            "WARNING:matplotlib.font_manager:findfont: Font family 'NanumBarunGothic' not found.\n",
            "WARNING:matplotlib.font_manager:findfont: Font family 'NanumBarunGothic' not found.\n",
            "WARNING:matplotlib.font_manager:findfont: Font family 'NanumBarunGothic' not found.\n",
            "WARNING:matplotlib.font_manager:findfont: Font family 'NanumBarunGothic' not found.\n",
            "WARNING:matplotlib.font_manager:findfont: Font family 'NanumBarunGothic' not found.\n",
            "WARNING:matplotlib.font_manager:findfont: Font family 'NanumBarunGothic' not found.\n",
            "/usr/local/lib/python3.12/dist-packages/IPython/core/pylabtools.py:151: UserWarning: Glyph 51060 (\\N{HANGUL SYLLABLE I}) missing from font(s) DejaVu Sans.\n",
            "  fig.canvas.print_figure(bytes_io, **kw)\n",
            "/usr/local/lib/python3.12/dist-packages/IPython/core/pylabtools.py:151: UserWarning: Glyph 47492 (\\N{HANGUL SYLLABLE REUM}) missing from font(s) DejaVu Sans.\n",
            "  fig.canvas.print_figure(bytes_io, **kw)\n",
            "WARNING:matplotlib.font_manager:findfont: Font family 'NanumBarunGothic' not found.\n",
            "/usr/local/lib/python3.12/dist-packages/IPython/core/pylabtools.py:151: UserWarning: Glyph 45208 (\\N{HANGUL SYLLABLE NA}) missing from font(s) DejaVu Sans.\n",
            "  fig.canvas.print_figure(bytes_io, **kw)\n",
            "WARNING:matplotlib.font_manager:findfont: Font family 'NanumBarunGothic' not found.\n",
            "/usr/local/lib/python3.12/dist-packages/IPython/core/pylabtools.py:151: UserWarning: Glyph 46020 (\\N{HANGUL SYLLABLE DO}) missing from font(s) DejaVu Sans.\n",
            "  fig.canvas.print_figure(bytes_io, **kw)\n",
            "/usr/local/lib/python3.12/dist-packages/IPython/core/pylabtools.py:151: UserWarning: Glyph 49884 (\\N{HANGUL SYLLABLE SI}) missing from font(s) DejaVu Sans.\n",
            "  fig.canvas.print_figure(bytes_io, **kw)\n",
            "WARNING:matplotlib.font_manager:findfont: Font family 'NanumBarunGothic' not found.\n",
            "/usr/local/lib/python3.12/dist-packages/IPython/core/pylabtools.py:151: UserWarning: Glyph 51216 (\\N{HANGUL SYLLABLE JEOM}) missing from font(s) DejaVu Sans.\n",
            "  fig.canvas.print_figure(bytes_io, **kw)\n",
            "/usr/local/lib/python3.12/dist-packages/IPython/core/pylabtools.py:151: UserWarning: Glyph 49688 (\\N{HANGUL SYLLABLE SU}) missing from font(s) DejaVu Sans.\n",
            "  fig.canvas.print_figure(bytes_io, **kw)\n",
            "WARNING:matplotlib.font_manager:findfont: Font family 'NanumBarunGothic' not found.\n",
            "WARNING:matplotlib.font_manager:findfont: Font family 'NanumBarunGothic' not found.\n",
            "WARNING:matplotlib.font_manager:findfont: Font family 'NanumBarunGothic' not found.\n",
            "WARNING:matplotlib.font_manager:findfont: Font family 'NanumBarunGothic' not found.\n",
            "WARNING:matplotlib.font_manager:findfont: Font family 'NanumBarunGothic' not found.\n",
            "WARNING:matplotlib.font_manager:findfont: Font family 'NanumBarunGothic' not found.\n",
            "WARNING:matplotlib.font_manager:findfont: Font family 'NanumBarunGothic' not found.\n",
            "WARNING:matplotlib.font_manager:findfont: Font family 'NanumBarunGothic' not found.\n",
            "WARNING:matplotlib.font_manager:findfont: Font family 'NanumBarunGothic' not found.\n",
            "WARNING:matplotlib.font_manager:findfont: Font family 'NanumBarunGothic' not found.\n"
          ]
        },
        {
          "output_type": "display_data",
          "data": {
            "text/plain": [
              "<Figure size 800x600 with 1 Axes>"
            ],
            "image/png": "[encoded data removed]"
          },
          "metadata": {}
        },
        {
          "output_type": "stream",
          "name": "stderr",
          "text": [
            "WARNING:matplotlib.font_manager:findfont: Font family 'NanumBarunGothic' not found.\n",
            "WARNING:matplotlib.font_manager:findfont: Font family 'NanumBarunGothic' not found.\n",
            "WARNING:matplotlib.font_manager:findfont: Font family 'NanumBarunGothic' not found.\n",
            "WARNING:matplotlib.font_manager:findfont: Font family 'NanumBarunGothic' not found.\n",
            "WARNING:matplotlib.font_manager:findfont: Font family 'NanumBarunGothic' not found.\n",
            "/usr/local/lib/python3.12/dist-packages/IPython/core/pylabtools.py:151: UserWarning: Glyph 51060 (\\N{HANGUL SYLLABLE I}) missing from font(s) DejaVu Sans.\n",
            "  fig.canvas.print_figure(bytes_io, **kw)\n",
            "/usr/local/lib/python3.12/dist-packages/IPython/core/pylabtools.py:151: UserWarning: Glyph 47492 (\\N{HANGUL SYLLABLE REUM}) missing from font(s) DejaVu Sans.\n",
            "  fig.canvas.print_figure(bytes_io, **kw)\n",
            "WARNING:matplotlib.font_manager:findfont: Font family 'NanumBarunGothic' not found.\n",
            "/usr/local/lib/python3.12/dist-packages/IPython/core/pylabtools.py:151: UserWarning: Glyph 45208 (\\N{HANGUL SYLLABLE NA}) missing from font(s) DejaVu Sans.\n",
            "  fig.canvas.print_figure(bytes_io, **kw)\n",
            "WARNING:matplotlib.font_manager:findfont: Font family 'NanumBarunGothic' not found.\n",
            "/usr/local/lib/python3.12/dist-packages/IPython/core/pylabtools.py:151: UserWarning: Glyph 46020 (\\N{HANGUL SYLLABLE DO}) missing from font(s) DejaVu Sans.\n",
            "  fig.canvas.print_figure(bytes_io, **kw)\n",
            "/usr/local/lib/python3.12/dist-packages/IPython/core/pylabtools.py:151: UserWarning: Glyph 49884 (\\N{HANGUL SYLLABLE SI}) missing from font(s) DejaVu Sans.\n",
            "  fig.canvas.print_figure(bytes_io, **kw)\n",
            "WARNING:matplotlib.font_manager:findfont: Font family 'NanumBarunGothic' not found.\n",
            "/usr/local/lib/python3.12/dist-packages/IPython/core/pylabtools.py:151: UserWarning: Glyph 51216 (\\N{HANGUL SYLLABLE JEOM}) missing from font(s) DejaVu Sans.\n",
            "  fig.canvas.print_figure(bytes_io, **kw)\n",
            "/usr/local/lib/python3.12/dist-packages/IPython/core/pylabtools.py:151: UserWarning: Glyph 49688 (\\N{HANGUL SYLLABLE SU}) missing from font(s) DejaVu Sans.\n",
            "  fig.canvas.print_figure(bytes_io, **kw)\n",
            "WARNING:matplotlib.font_manager:findfont: Font family 'NanumBarunGothic' not found.\n",
            "WARNING:matplotlib.font_manager:findfont: Font family 'NanumBarunGothic' not found.\n",
            "WARNING:matplotlib.font_manager:findfont: Font family 'NanumBarunGothic' not found.\n",
            "WARNING:matplotlib.font_manager:findfont: Font family 'NanumBarunGothic' not found.\n",
            "WARNING:matplotlib.font_manager:findfont: Font family 'NanumBarunGothic' not found.\n",
            "/usr/local/lib/python3.12/dist-packages/IPython/core/pylabtools.py:151: UserWarning: Glyph 44208 (\\N{HANGUL SYLLABLE GYEOL}) missing from font(s) DejaVu Sans.\n",
            "  fig.canvas.print_figure(bytes_io, **kw)\n",
            "/usr/local/lib/python3.12/dist-packages/IPython/core/pylabtools.py:151: UserWarning: Glyph 52769 (\\N{HANGUL SYLLABLE CEUG}) missing from font(s) DejaVu Sans.\n",
            "  fig.canvas.print_figure(bytes_io, **kw)\n",
            "/usr/local/lib/python3.12/dist-packages/IPython/core/pylabtools.py:151: UserWarning: Glyph 52824 (\\N{HANGUL SYLLABLE CI}) missing from font(s) DejaVu Sans.\n",
            "  fig.canvas.print_figure(bytes_io, **kw)\n",
            "/usr/local/lib/python3.12/dist-packages/IPython/core/pylabtools.py:151: UserWarning: Glyph 47588 (\\N{HANGUL SYLLABLE MAE}) missing from font(s) DejaVu Sans.\n",
            "  fig.canvas.print_figure(bytes_io, **kw)\n",
            "/usr/local/lib/python3.12/dist-packages/IPython/core/pylabtools.py:151: UserWarning: Glyph 53944 (\\N{HANGUL SYLLABLE TEU}) missing from font(s) DejaVu Sans.\n",
            "  fig.canvas.print_figure(bytes_io, **kw)\n",
            "/usr/local/lib/python3.12/dist-packages/IPython/core/pylabtools.py:151: UserWarning: Glyph 47533 (\\N{HANGUL SYLLABLE RIG}) missing from font(s) DejaVu Sans.\n",
            "  fig.canvas.print_figure(bytes_io, **kw)\n",
            "/usr/local/lib/python3.12/dist-packages/IPython/core/pylabtools.py:151: UserWarning: Glyph 49828 (\\N{HANGUL SYLLABLE SEU}) missing from font(s) DejaVu Sans.\n",
            "  fig.canvas.print_figure(bytes_io, **kw)\n",
            "WARNING:matplotlib.font_manager:findfont: Font family 'NanumBarunGothic' not found.\n",
            "WARNING:matplotlib.font_manager:findfont: Font family 'NanumBarunGothic' not found.\n",
            "WARNING:matplotlib.font_manager:findfont: Font family 'NanumBarunGothic' not found.\n",
            "WARNING:matplotlib.font_manager:findfont: Font family 'NanumBarunGothic' not found.\n",
            "WARNING:matplotlib.font_manager:findfont: Font family 'NanumBarunGothic' not found.\n",
            "WARNING:matplotlib.font_manager:findfont: Font family 'NanumBarunGothic' not found.\n",
            "WARNING:matplotlib.font_manager:findfont: Font family 'NanumBarunGothic' not found.\n",
            "WARNING:matplotlib.font_manager:findfont: Font family 'NanumBarunGothic' not found.\n",
            "WARNING:matplotlib.font_manager:findfont: Font family 'NanumBarunGothic' not found.\n",
            "WARNING:matplotlib.font_manager:findfont: Font family 'NanumBarunGothic' not found.\n",
            "WARNING:matplotlib.font_manager:findfont: Font family 'NanumBarunGothic' not found.\n",
            "WARNING:matplotlib.font_manager:findfont: Font family 'NanumBarunGothic' not found.\n",
            "WARNING:matplotlib.font_manager:findfont: Font family 'NanumBarunGothic' not found.\n",
            "WARNING:matplotlib.font_manager:findfont: Font family 'NanumBarunGothic' not found.\n",
            "WARNING:matplotlib.font_manager:findfont: Font family 'NanumBarunGothic' not found.\n",
            "WARNING:matplotlib.font_manager:findfont: Font family 'NanumBarunGothic' not found.\n",
            "WARNING:matplotlib.font_manager:findfont: Font family 'NanumBarunGothic' not found.\n",
            "WARNING:matplotlib.font_manager:findfont: Font family 'NanumBarunGothic' not found.\n",
            "WARNING:matplotlib.font_manager:findfont: Font family 'NanumBarunGothic' not found.\n",
            "WARNING:matplotlib.font_manager:findfont: Font family 'NanumBarunGothic' not found.\n",
            "WARNING:matplotlib.font_manager:findfont: Font family 'NanumBarunGothic' not found.\n",
            "WARNING:matplotlib.font_manager:findfont: Font family 'NanumBarunGothic' not found.\n"
          ]
        },
        {
          "output_type": "display_data",
          "data": {
            "text/plain": [
              "<Figure size 400x600 with 2 Axes>"
            ],
            "image/png": "[encoded data removed]"
          },
          "metadata": {}
        }
      ]
    },
    {
      "cell_type": "markdown",
      "source": [
        "### 4.3.2 이상치 찾기"
      ],
      "metadata": {
        "id": "26YOIJaySdZO"
      }
    },
    {
      "cell_type": "markdown",
      "source": [
        "#### 사분위 범위를 통한 이상치 찾기"
      ],
      "metadata": {
        "id": "S7oz6BSMHxf6"
      }
    },
    {
      "cell_type": "code",
      "source": [
        "import pandas as pd\n",
        "import numpy as np\n",
        "\n",
        "점수_데이터 = [72, 68, 75, 282, 64, 31, 78, 69, 88, 92, 22, 84, 61, -90, 130, 66]\n",
        "학번_데이터 = list(range(1001, 1001 + len(점수_데이터)))\n",
        "\n",
        "df = pd.DataFrame({\n",
        "    '학번': 학번_데이터,\n",
        "    '점수': 점수_데이터\n",
        "})\n",
        "\n",
        "### 사분위 범위 경계값 계산\n",
        "\n",
        "\n",
        "### IQR 통계량 출력\n",
        "\n"
      ],
      "metadata": {
        "id": "tNKm91q1ZCWQ"
      },
      "execution_count": null,
      "outputs": []
    },
    {
      "cell_type": "markdown",
      "source": [
        "#### Z-score를 활용한 이상치 탐지"
      ],
      "metadata": {
        "id": "jcC6kWvsHz7s"
      }
    },
    {
      "cell_type": "code",
      "source": [
        "import pandas as pd\n",
        "import numpy as np\n",
        "\n",
        "점수_데이터 = [72, 68, 75, 282, 64, 31, 78, 69, 88, 92, 22, 84, 61, -90, 130, 66]\n",
        "학번_데이터 = list(range(1001, 1001 + len(점수_데이터)))\n",
        "\n",
        "df = pd.DataFrame({\n",
        "    '학번': 학번_데이터,\n",
        "    '점수': 점수_데이터\n",
        "})\n",
        "\n",
        "### Z-점수 계산\n",
        "\n",
        "### 임계값 설정 및 이상치 여부 판단\n",
        "\n",
        "### 이상치 데이터 출력\n",
        "\n",
        "### 이상치 비율 출력\n"
      ],
      "metadata": {
        "id": "oPs_WaNrZD-4"
      },
      "execution_count": null,
      "outputs": []
    },
    {
      "cell_type": "markdown",
      "source": [
        "## 4.4 Pandas를 이용한 데이터 문제 해결"
      ],
      "metadata": {
        "id": "GL2yuhUhR7sW"
      }
    },
    {
      "cell_type": "markdown",
      "source": [
        "### 4.4.1 데이터 문제 해결"
      ],
      "metadata": {
        "id": "54pSOmKZS552"
      }
    },
    {
      "cell_type": "markdown",
      "source": [
        "#### 평균값 및 선형보간법을 통한 결측치 처리"
      ],
      "metadata": {
        "id": "m8IQakJSH1bY"
      }
    },
    {
      "cell_type": "code",
      "source": [
        "import pandas as pd\n",
        "import numpy as np\n",
        "\n",
        "file_path = \"raw_large_shopping_customer.csv\"\n",
        "df = pd.read_csv(file_path)\n",
        "print(df.isnull().sum())\n",
        "\n",
        "df_cleaned = df.dropna(thresh=df.shape[1] - 1)\n",
        "\n",
        "### 나이, 소득 평균값 대치 및 결과 출력\n",
        "\n",
        "\n",
        "### 지출, 평균구매횟수 선형보간법 적용\n",
        "\n",
        "\n",
        "df_cleaned.to_csv(\"cleaned_large_shopping_customer.csv\", index=False, encoding=\"utf-8-sig\")"
      ],
      "metadata": {
        "id": "4j-um7-UZHbs"
      },
      "execution_count": null,
      "outputs": []
    },
    {
      "cell_type": "markdown",
      "source": [
        "### 4.4.2 Pandas 데이터 값 변경"
      ],
      "metadata": {
        "id": "vYf_IFimTC87"
      }
    },
    {
      "cell_type": "markdown",
      "source": [
        "#### replace() 메서드 데이터 값 변경"
      ],
      "metadata": {
        "id": "EYN-PCmnH2gW"
      }
    },
    {
      "cell_type": "code",
      "source": [
        "import pandas as pd\n",
        "\n",
        "data = {'age': [25, 30, None, 22, 35],\n",
        "        'city': ['Seoul', None, 'Incheon', 'Seoul', 'Daejeon'],\n",
        "        'score': [90, 85, None, 80, 92]}\n",
        "df = pd.DataFrame(data)\n",
        "\n",
        "### replace를 이용한 Seoul -> 서울\n",
        "\n",
        "### replace를 이용한 None -> 미정, Incheon -> 인천\n",
        "\n",
        "### map을 이용한 값 변경\n",
        "city_map = {'Seoul': '서울특별시', None: '미정', 'Incheon':'인천광역시', 'Daejeon':'대전광역시'}\n",
        "\n",
        "### apply 함수를 이용한 값 변경\n",
        "\n",
        "### apply 함수를 이용한 행단위 값 변경\n",
        "\n",
        "### loc 인덱스를 이용한 값 변경\n",
        "\n",
        "### where 함수를 이용한 값 변경\n",
        "\n"
      ],
      "metadata": {
        "id": "hV1s9QVNZMhI"
      },
      "execution_count": null,
      "outputs": []
    },
    {
      "cell_type": "markdown",
      "source": [
        "### 4.4.3 날짜 데이터 다루기"
      ],
      "metadata": {
        "id": "z3qhQ5YxTUuR"
      }
    },
    {
      "cell_type": "markdown",
      "source": [
        "#### datetime 데이터 타입 변환, dt 접근자를 통한 날짜 정보 추출, 날짜 데이터 변경하는 예\n"
      ],
      "metadata": {
        "id": "z2yAF4AiIAPq"
      }
    },
    {
      "cell_type": "code",
      "source": [
        "date_str = ['2025-07-01', '2025-08-01', '2025-09-01']\n",
        "df_date = pd.DataFrame({'date_str':date_str})\n",
        "\n",
        "### datetime 타입 변환\n",
        "\n",
        "### 날짜 데이터 분리\n",
        "\n",
        "### 날짜 데이터 포멧 변경\n"
      ],
      "metadata": {
        "id": "xDLixmACZ43a"
      },
      "execution_count": null,
      "outputs": []
    },
    {
      "cell_type": "markdown",
      "source": [
        "## 4.5 개념정리 실습 (6강 마지막 부분부터)"
      ],
      "metadata": {
        "id": "JN53NexmIDPv"
      }
    },
    {
      "cell_type": "markdown",
      "source": [
        "### Kaggle을 활용한 데이터 수집 및 측정"
      ],
      "metadata": {
        "id": "KZC--SWJtKRB"
      }
    },
    {
      "cell_type": "markdown",
      "source": [
        "#### Kaggle API 키 업로드"
      ],
      "metadata": {
        "id": "GJswJmo8UoVi"
      }
    },
    {
      "cell_type": "markdown",
      "source": [
        "- Kaggle([https://www.kaggle.com](https://www.kaggle.com)) 회원 가입\n",
        "- Kaggle 접근 토큰 생성(API 키)\n"
      ],
      "metadata": {
        "id": "m_g4vPfNUh0o"
      }
    },
    {
      "cell_type": "code",
      "source": [
        "from google.colab import files\n",
        "files.upload()"
      ],
      "metadata": {
        "id": "LEhavjB6Ukk2"
      },
      "execution_count": null,
      "outputs": []
    },
    {
      "cell_type": "markdown",
      "source": [
        "#### Kaggle API 키 사용을 위한 Colab 환경 설정"
      ],
      "metadata": {
        "id": "d1TJsp1WUq2O"
      }
    },
    {
      "cell_type": "code",
      "source": [
        "!mkdir -p ~/.kaggle\n",
        "!cp kaggle.json ~/.kaggle/\n",
        "!chmod 600 ~/.kaggle/kaggle.json"
      ],
      "metadata": {
        "id": "kcm4Fvv7Uthf"
      },
      "execution_count": null,
      "outputs": []
    },
    {
      "cell_type": "markdown",
      "source": [
        "#### Kaggle 데이터셋 다운로드"
      ],
      "metadata": {
        "id": "bcVQMvJ9UwrU"
      }
    },
    {
      "cell_type": "code",
      "source": [
        "!kaggle competitions download –c store-sales-time-series-forecasting\n",
        "\n",
        "!unzip store-sales-time-series-forecasting.zip"
      ],
      "metadata": {
        "id": "8ioEp8c5U1Ho"
      },
      "execution_count": null,
      "outputs": []
    },
    {
      "cell_type": "markdown",
      "source": [
        "#### Kaggle 데이터셋 DataFrame 로드 및 살펴보기"
      ],
      "metadata": {
        "id": "_nEOzJl9U15V"
      }
    },
    {
      "cell_type": "code",
      "source": [
        "import pandas as pd\n",
        "\n",
        "# Grocery Sales 데이터 DataFrame 로드\n",
        "train =  pd.read_csv('train.csv')\n",
        "stores =  pd.read_csv('stores.csv')\n",
        "transactions =  pd.read_csv('transactions.csv')\n",
        "oil =  pd.read_csv('oil.csv')\n",
        "holidays_events =  pd.read_csv('holidays_events.csv')\n",
        "\n",
        "# 판매 데이터 살펴보기\n",
        "train.info()"
      ],
      "metadata": {
        "id": "2F3B2pkNU4aL"
      },
      "execution_count": null,
      "outputs": []
    },
    {
      "cell_type": "markdown",
      "source": [
        "#### Kaggle 데이터셋 측정"
      ],
      "metadata": {
        "id": "t11wFGUaU_ik"
      }
    },
    {
      "cell_type": "code",
      "source": [
        "# 판매 데이터 기본 통계량\n",
        "train.describe()\n",
        "\n",
        "# 매장 데이터 기본 정보\n",
        "stores.head()\n",
        "\n",
        "# 원유 가격 데이터 기본 정보\n",
        "oil.head()"
      ],
      "metadata": {
        "id": "muzymH8AVAyV"
      },
      "execution_count": null,
      "outputs": []
    },
    {
      "cell_type": "markdown",
      "source": [
        "#### 데이터 분포 시각화"
      ],
      "metadata": {
        "id": "bTP3SY9ZINsp"
      }
    },
    {
      "cell_type": "code",
      "source": [
        "plt.figure(figsize=(10, 6))\n",
        "sns.histplot(train['sales'], bins=50)\n",
        "plt.title(\"판매량 분포\")\n",
        "plt.xlabel(\"판매량\")\n",
        "plt.ylabel(\"빈도\")\n",
        "plt.xlim(0, 5000)\n",
        "plt.show()\n",
        "\n",
        "store_sales = train.groupby('store_nbr')['sales'].mean().reset_index()\n",
        "plt.figure(figsize=(12, 6))\n",
        "sns.barplot(x='store_nbr', y='sales', data=store_sales)\n",
        "plt.title(\"매장별 평균 판매량\")\n",
        "plt.xlabel(\"매장 번호\")\n",
        "plt.ylabel(\"평균 판매량\")\n",
        "plt.xticks(rotation=90)\n",
        "plt.show()"
      ],
      "metadata": {
        "id": "5k614LMPaS5I"
      },
      "execution_count": null,
      "outputs": []
    },
    {
      "cell_type": "markdown",
      "source": [
        "#### 결측치 처리"
      ],
      "metadata": {
        "id": "c5OAhNibIa4u"
      }
    },
    {
      "cell_type": "code",
      "source": [
        "## 판매, 매장, 거래, 원유, 휴일이벤트 데이터 결측치\n",
        "\n"
      ],
      "metadata": {
        "id": "oHN3jYRSaU7A"
      },
      "execution_count": null,
      "outputs": []
    },
    {
      "cell_type": "code",
      "source": [
        "import missingno as msno\n",
        "\n",
        "msno.matrix(oil)\n",
        "plt.title(\"원유 가격 데이터 결측치 분포\")\n",
        "plt.show()\n",
        "\n",
        "oil['date'] = pd.to_datetime(oil['date'])\n",
        "plt.figure(figsize=(12, 6))\n",
        "plt.plot(oil['date'], oil['dcoilwtico'])\n",
        "plt.title(\"시간에 따른 원유 가격 변화\")\n",
        "plt.xlabel(\"날짜\")\n",
        "plt.ylabel(\"원유 가격\")\n",
        "plt.grid(True)\n",
        "plt.show()"
      ],
      "metadata": {
        "id": "a3QQecfbaXA4"
      },
      "execution_count": null,
      "outputs": []
    },
    {
      "cell_type": "code",
      "source": [
        "oil_cleaned = oil.copy()\n",
        "\n",
        "### 선형 보간법 적용한 원유 가격 데이터\n",
        "\n",
        "\n",
        "plt.figure(figsize=(12, 6))\n",
        "plt.plot(oil_cleaned['date'], oil_cleaned['dcoilwtico'], 'b-')\n",
        "plt.title(\"원유 가격 보간 후 데이터\")\n",
        "plt.xlabel(\"날짜\")\n",
        "plt.ylabel(\"원유 가격\")\n",
        "plt.grid(True)\n",
        "plt.show()"
      ],
      "metadata": {
        "id": "IMZPXS4oaZJI"
      },
      "execution_count": null,
      "outputs": []
    },
    {
      "cell_type": "markdown",
      "source": [
        "#### 이상치 처리"
      ],
      "metadata": {
        "id": "2Tq1zN9oIkmz"
      }
    },
    {
      "cell_type": "code",
      "source": [
        "### 제품 계열별 판매 데이터 IQR 계산\n",
        "\n",
        "\n",
        "### 상한값 초과 판매량 이상치 분류\n",
        "\n",
        "\n",
        "print(f\"이상치 개수: {total_outliers:,}건\")\n",
        "print(f\"전체 대비 비율: {total_ratio:.2%}\")\n",
        "\n",
        "plt.figure(figsize=(15,6))\n",
        "sns.stripplot(x='family', y='sales', hue=train_enhanced['is_outlier'],\n",
        "              data=train_enhanced, palette={False:'blue', True:'red'})\n",
        "plt.xticks(rotation=90)\n",
        "plt.yscale('log')\n",
        "plt.title('계열별 판매량 분포 (파랑: 정상, 빨강: 이상)')\n",
        "plt.show()"
      ],
      "metadata": {
        "id": "Ms25XeJ0abZE"
      },
      "execution_count": null,
      "outputs": []
    },
    {
      "cell_type": "code",
      "source": [
        "upper_bounds = family_bounds['upper_bound']\n",
        "\n",
        "### 판매량이 상한값 초과 시, 판매량으로 상한값으로 대체\n",
        "train_cleaned  = train.copy()\n",
        "\n",
        "\n",
        "changed_count = (train['sales'] != train_cleaned ['sales']).sum()\n",
        "print(f\"대체된 데이터 수: {changed_count}건\")"
      ],
      "metadata": {
        "id": "SO563dJzadWw"
      },
      "execution_count": null,
      "outputs": []
    },
    {
      "cell_type": "markdown",
      "source": [
        "#### 날짜 데이터 처리"
      ],
      "metadata": {
        "id": "vxifBGTYIq4r"
      }
    },
    {
      "cell_type": "code",
      "source": [
        "### 판매, 거래, 휴일 이벤트, 원율 데이터 내 date 컬럼 데이터 datetime 데이터 타입으로 변경\n",
        "\n",
        "\n",
        "\n",
        "train_cleaned['year'] = train_cleaned['date'].dt.year\n",
        "train_cleaned['month'] = train_cleaned['date'].dt.month\n",
        "train_cleaned['day'] = train_cleaned['date'].dt.day\n",
        "train_cleaned['dayofweek'] = train_cleaned['date'].dt.dayofweek\n",
        "### 주말, 월초, 월말 여부 추철\n",
        "\n",
        "\n",
        "print(\"날짜 특성 추출 결과:\")\n",
        "print(train_cleaned[['date', 'year', 'month', 'day', 'dayofweek', 'weekend', 'is_month_start', 'is_month_end']].head())"
      ],
      "metadata": {
        "id": "PoP0LGutafNG"
      },
      "execution_count": null,
      "outputs": []
    },
    {
      "cell_type": "code",
      "source": [
        "## 요일별 평균 판매량을 계산\n",
        "\n",
        "## 요일 출력값 변경\n",
        "\n",
        "plt.figure(figsize=(10, 6))\n",
        "sns.barplot(x='day_name', y='sales', data=day_sales)\n",
        "plt.title(\"요일별 평균 판매량\")\n",
        "plt.xlabel(\"요일\")\n",
        "plt.ylabel(\"평균 판매량\")\n",
        "plt.show()"
      ],
      "metadata": {
        "id": "YoM6Al8eahG_"
      },
      "execution_count": null,
      "outputs": []
    },
    {
      "cell_type": "markdown",
      "source": [
        "#### 데이터 통합"
      ],
      "metadata": {
        "id": "q7ik1uccIuUz"
      }
    },
    {
      "cell_type": "code",
      "source": [
        "## 판매, 거래 데이터 통합\n",
        "\n",
        "\n",
        "## 매장 데이터 통합\n",
        "\n",
        "\n",
        "## 원유 데이터 통합\n",
        "\n",
        "\n",
        "print(\"최종 데이터셋 정보:\")\n",
        "print(f\"행 개수: {train_final.shape[0]}, 열 개수: {train_final.shape[1]}\")\n",
        "print(train_final.columns.tolist())\n",
        "print(train_final.head())"
      ],
      "metadata": {
        "id": "nxAInLIwajY6"
      },
      "execution_count": null,
      "outputs": []
    }
  ]
}