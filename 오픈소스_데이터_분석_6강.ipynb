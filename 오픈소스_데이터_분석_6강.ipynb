{
  "nbformat": 4,
  "nbformat_minor": 0,
  "metadata": {
    "colab": {
      "provenance": [],
      "include_colab_link": true
    },
    "kernelspec": {
      "name": "python3",
      "display_name": "Python 3"
    },
    "language_info": {
      "name": "python"
    }
  },
  "cells": [
    {
      "cell_type": "markdown",
      "metadata": {
        "id": "view-in-github",
        "colab_type": "text"
      },
      "source": [
        "<a href=\"https://colab.research.google.com/github/Taeichang/DataAnalysis/blob/main/%EC%98%A4%ED%94%88%EC%86%8C%EC%8A%A4_%EB%8D%B0%EC%9D%B4%ED%84%B0_%EB%B6%84%EC%84%9D_6%EA%B0%95.ipynb\" target=\"_parent\"><img src=\"https://colab.research.google.com/assets/colab-badge.svg\" alt=\"Open In Colab\"/></a>"
      ]
    },
    {
      "cell_type": "markdown",
      "source": [
        "# 오픈소스 기반 데이터 분석 6강 - 데이터 전처리 1"
      ],
      "metadata": {
        "id": "1Ld5KWf86hIu"
      }
    },
    {
      "cell_type": "markdown",
      "source": [
        "## 4.2 Pandas를 이용한 데이터 측정\n",
        "\n",
        "*   데이터 측정은 값의 크기를 확인뿐만 아니라, 전반적인 분포와 특성을 파악 후, 전처리 및 분석 방향을 설정하는 기초 단계\n",
        "*   데이터 측정 기준 (분석 단위에 따라 나눔)\n",
        "    * 전체 데이터 측정:\n",
        "        * 데이터 셋 전체에 대한 통계량을 계산\n",
        "        * 전반적인 경향과 특성 파악\n",
        "        * 집합 전체를 하나의 대상 ex. 전체 고객 평균 나이, 전체 상품 평균 가격\n",
        "    * 레코드별 측정:\n",
        "        * 개별 레코드(행)을 분석 단위로 삼아 통계량을 계산 ex. 고객별 총 구매 금액, 학생별 시험 점수 평균\n",
        "        * 개별 객체의 특성을 구체적으로 이해하는데 활용\n",
        "    * 그룹별 특정\n",
        "        * 특정 기준에 따라 데이터를 집단으로 나눔, 각 그룹별 통계량 산출\n",
        "        * 집단 간 차이 비교 ex. 성별에 따른 평균 나이, 지역별 평균 소득\n",
        "\n",
        "\n",
        "\n",
        "*   요약 통계 지표 p.161\n",
        "*   기타 통계 지표 p.162\n",
        "\n",
        "\n",
        "\n",
        "\n"
      ],
      "metadata": {
        "id": "3PqFzZJBB4kD"
      }
    },
    {
      "cell_type": "markdown",
      "source": [
        "### 3.4.2 데이터 훑어보기"
      ],
      "metadata": {
        "id": "XqpCWf2063pN"
      }
    },
    {
      "cell_type": "markdown",
      "source": [
        "\n",
        "\n",
        "*   describe() 함수의 제공 통계량 p.162-163\n",
        "\n",
        "* 기본적으로 수치형 데이터에 대한 요약 정보 반환, 범주형 데이터는 inlude = 'object' 또는 include = 'category' 옵션을 지정\n",
        "\n",
        "> include = 'all' : 모든 데이터 타입\n",
        "\n",
        "> include = [np.number] : 수치형 데이터 타입\n",
        "\n",
        ">include = ['object'] : 범주형 데이터 타입\n",
        "\n",
        "\n",
        "\n",
        "\n",
        "\n"
      ],
      "metadata": {
        "id": "vm0mRD-nsMGI"
      }
    },
    {
      "cell_type": "code",
      "source": [
        "import pandas as pd\n",
        "import numpy as np # pandas 안에 자료는 numpy array로 저장 됨. 데이터 측정 시 어떤 numpy 측정 개체만 살펴봄\n",
        "\n",
        "data = {\n",
        "    'name': ['김민수', '이지영', '박준호', '최서연', '정도윤'],\n",
        "    'age': [25, 30, 28, 22, 35],\n",
        "    'city': ['서울', '부산', '인천', '서울', '대전'],\n",
        "    'score': [90, 85, 95, 80, np.nan]\n",
        "}\n",
        "df = pd.DataFrame(data)\n",
        "\n",
        "# 데이터 측정\n",
        "print('1. 기본 describe( ):')\n",
        "print(df.describe())\n",
        "\n",
        "# 모든 데이터 타입 측정\n",
        "# 수치형 + 범주형 = 전반적 거시적 정보\n",
        "print('\\n2. 모든 데이터 타입:')\n",
        "print(df.describe(include = 'all'))\n",
        "\n",
        "# 수치형 데이터 측정\n",
        "print('\\n3. 수치형 데이터만:')\n",
        "print(df.describe(include = [np.number]))\n",
        "\n",
        "# 범주형 데이터 측정\n",
        "print('\\n4. 범주형 데이터만:')\n",
        "print(df.describe(include = ['object']))\n",
        "\n",
        "# 특정 열 분석\n",
        "print('\\n5. score 열 분석:')\n",
        "print(df['score'].describe())"
      ],
      "metadata": {
        "id": "TKsIqpFtYVVS",
        "colab": {
          "base_uri": "https://localhost:8080/",
          "height": 0
        },
        "outputId": "8c516972-ec9c-45c4-ea58-4d61f5a6dd89"
      },
      "execution_count": 10,
      "outputs": [
        {
          "output_type": "stream",
          "name": "stdout",
          "text": [
            "1. 기본 describe( ):\n",
            "             age      score\n",
            "count   5.000000   4.000000\n",
            "mean   28.000000  87.500000\n",
            "std     4.949747   6.454972\n",
            "min    22.000000  80.000000\n",
            "25%    25.000000  83.750000\n",
            "50%    28.000000  87.500000\n",
            "75%    30.000000  91.250000\n",
            "max    35.000000  95.000000\n",
            "\n",
            "2. 모든 데이터 타입:\n",
            "       name        age city      score\n",
            "count     5   5.000000    5   4.000000\n",
            "unique    5        NaN    4        NaN\n",
            "top     김민수        NaN   서울        NaN\n",
            "freq      1        NaN    2        NaN\n",
            "mean    NaN  28.000000  NaN  87.500000\n",
            "std     NaN   4.949747  NaN   6.454972\n",
            "min     NaN  22.000000  NaN  80.000000\n",
            "25%     NaN  25.000000  NaN  83.750000\n",
            "50%     NaN  28.000000  NaN  87.500000\n",
            "75%     NaN  30.000000  NaN  91.250000\n",
            "max     NaN  35.000000  NaN  95.000000\n",
            "\n",
            "3. 수치형 데이터만:\n",
            "             age      score\n",
            "count   5.000000   4.000000\n",
            "mean   28.000000  87.500000\n",
            "std     4.949747   6.454972\n",
            "min    22.000000  80.000000\n",
            "25%    25.000000  83.750000\n",
            "50%    28.000000  87.500000\n",
            "75%    30.000000  91.250000\n",
            "max    35.000000  95.000000\n",
            "\n",
            "4. 범주형 데이터만:\n",
            "       name city\n",
            "count     5    5\n",
            "unique    5    4\n",
            "top     김민수   서울\n",
            "freq      1    2\n",
            "\n",
            "5. score 열 분석:\n",
            "count     4.000000\n",
            "mean     87.500000\n",
            "std       6.454972\n",
            "min      80.000000\n",
            "25%      83.750000\n",
            "50%      87.500000\n",
            "75%      91.250000\n",
            "max      95.000000\n",
            "Name: score, dtype: float64\n"
          ]
        }
      ]
    },
    {
      "cell_type": "markdown",
      "source": [
        "### 3.4.3 DataFrame 열 선택 및 조작\n",
        "\n",
        "\n",
        "\n",
        "*   특정 열 선택 - df['열이름'], df[['열1', '열2']]\n",
        "*   열 순서 변경 - df[new_order]\n",
        "*   열 이름 변경 - df.rename(columns = {'기존이름':'새이름'})\n",
        "* inplace = True 사용 시 원본 DataFrame 직접 수정\n",
        "\n"
      ],
      "metadata": {
        "id": "HezV4iK1BmrB"
      }
    },
    {
      "cell_type": "code",
      "source": [
        "# DataFrame의 인덱싱 기법을 이용해 원하는 데이터 가져옴\n",
        "import pandas as pd\n",
        "\n",
        "data = {\n",
        "    \"이름\": [\"김철수\", \"이영희\", \"박민수\", \"최지훈\", \"정소희\"],\n",
        "    \"학년\": [1, 2, 3, 4, 2],\n",
        "    \"학점\": [4.2, 3.8, 4.5, 3.9, 3.5],\n",
        "    \"학과\": [\"컴퓨터공학\", \"경영학\", \"전자공학\", \"의학\", \"심리학\"],\n",
        "    \"동아리\": [\"프로그래밍\", \"독서토론\", \"로봇공학\", \"봉사활동\", \"음악감상\"]\n",
        "}\n",
        "df = pd.DataFrame(data)\n",
        "\n",
        "# 특정 열 선택\n",
        "selected_cols = df[['이름', '학과', '학점']]\n",
        "print('\\n1. 특정 열만 선택:')\n",
        "print(selected_cols)\n",
        "\n",
        "# DataFrame 열순서 변경\n",
        "reordered_cols = df[['학과', '이름', '학년', '학점', '동아리']]\n",
        "print('\\n2. 열 순서 변경:')\n",
        "print(reordered_cols)\n",
        "\n",
        "# DataFrame 열이름 변경\n",
        "# 다른 알고리즘의 입력으로 사용되는 경우\n",
        "df_renamed = df.rename(columns = {'이름': '학생명', '학점': '평점', '동아리': '과외활동'})\n",
        "print('\\n3. 열 이름 변경:')\n",
        "print(df_renamed)"
      ],
      "metadata": {
        "id": "23DbuKjzYcpS",
        "outputId": "c735c8d4-4569-4926-a90e-d62d1c0cfc55",
        "colab": {
          "base_uri": "https://localhost:8080/",
          "height": 0
        }
      },
      "execution_count": 11,
      "outputs": [
        {
          "output_type": "stream",
          "name": "stdout",
          "text": [
            "\n",
            "1. 특정 열만 선택:\n",
            "    이름     학과   학점\n",
            "0  김철수  컴퓨터공학  4.2\n",
            "1  이영희    경영학  3.8\n",
            "2  박민수   전자공학  4.5\n",
            "3  최지훈     의학  3.9\n",
            "4  정소희    심리학  3.5\n",
            "\n",
            "2. 열 순서 변경:\n",
            "      학과   이름  학년   학점    동아리\n",
            "0  컴퓨터공학  김철수   1  4.2  프로그래밍\n",
            "1    경영학  이영희   2  3.8   독서토론\n",
            "2   전자공학  박민수   3  4.5   로봇공학\n",
            "3     의학  최지훈   4  3.9   봉사활동\n",
            "4    심리학  정소희   2  3.5   음악감상\n",
            "\n",
            "3. 열 이름 변경:\n",
            "   학생명  학년   평점     학과   과외활동\n",
            "0  김철수   1  4.2  컴퓨터공학  프로그래밍\n",
            "1  이영희   2  3.8    경영학   독서토론\n",
            "2  박민수   3  4.5   전자공학   로봇공학\n",
            "3  최지훈   4  3.9     의학   봉사활동\n",
            "4  정소희   2  3.5    심리학   음악감상\n"
          ]
        }
      ]
    },
    {
      "cell_type": "markdown",
      "source": [
        "### 3.4.4"
      ],
      "metadata": {
        "id": "lZ2fkkq7B9NN"
      }
    },
    {
      "cell_type": "markdown",
      "source": [
        "#### DataFrame 행 선택\n",
        "\n",
        "* loc 인덱서 - 인덱스 이름 또는 조건을 사용하여 행 선택\n",
        "* iloc 인덱서 - 정수 위치 기반으로 행 선택\n",
        "* df['열이름'] - 특정 컬럼을 지정해 조건을 사용하여 특정 행 선택, 여러 개일 경우, 열 이름 리스트로 묶어주기"
      ],
      "metadata": {
        "id": "el5xtp1cDKI8"
      }
    },
    {
      "cell_type": "code",
      "source": [
        "import pandas as pd\n",
        "\n",
        "data = {\n",
        "    \"이름\": [\"김철수\", \"이영희\", \"박민수\", \"최지훈\", \"정소희\"],\n",
        "    \"학년\": [1, 2, 3, 4, 2],\n",
        "    \"학점\": [4.2, 3.8, 4.5, 3.9, 3.5],\n",
        "    \"학과\": [\"컴퓨터공학\", \"경영학\", \"전자공학\", \"의학\", \"심리학\"],\n",
        "    \"동아리\": [\"프로그래밍\", \"독서토론\", \"로봇공학\", \"봉사활동\", \"음악감상\"]\n",
        "}\n",
        "\n",
        "#DataFrame 인덱스 지정\n",
        "df = pd.DataFrame(data, index = data['이름'])\n",
        "\n",
        "#DataFrame 행 선택\n",
        "# cell index를 안 썼을 경우 0부터 숫자를 사용\n",
        "df.loc['김철수']\n",
        "df.loc[['김철수', '이영희']]\n",
        "df.loc['김철수':'박민수']\n",
        "\n",
        "#DataFrame 위치 기반 행 선택\n",
        "df.iloc[1]\n",
        "df.iloc[[2,3]]\n",
        "df.iloc[1:3]\n",
        "\n",
        "# DataFrame 조건 기반 선택\n",
        "# 조건식을 이용해 불리언 인덱스를 만들고, 불리언 인덱스를 통해 데이터프레임의 값을 가져옴\n",
        "df.loc[[True, False, True, False, False]] # 레코드의 개수\n",
        "print(df[['학점', '학년']])\n",
        "df.loc[df['학점'] >= 4.0] #loc 함수\n",
        "df[df['학년'] == 2] #df 인덱싱 안에서 실행\n",
        "df[(df['학년'] == 2) & (df['학점'] >= 3.7)]"
      ],
      "metadata": {
        "id": "Iztna0YTYe_e",
        "outputId": "df73a59a-5295-4697-8805-1b225342abd4",
        "colab": {
          "base_uri": "https://localhost:8080/",
          "height": 191
        }
      },
      "execution_count": 12,
      "outputs": [
        {
          "output_type": "stream",
          "name": "stdout",
          "text": [
            "      학점  학년\n",
            "김철수  4.2   1\n",
            "이영희  3.8   2\n",
            "박민수  4.5   3\n",
            "최지훈  3.9   4\n",
            "정소희  3.5   2\n"
          ]
        },
        {
          "output_type": "execute_result",
          "data": {
            "text/plain": [
              "      이름  학년   학점   학과   동아리\n",
              "이영희  이영희   2  3.8  경영학  독서토론"
            ],
            "text/html": [
              "\n",
              "  <div id=\"df-8000960f-2786-4a8a-bdbc-4b32c31eb8cd\" class=\"colab-df-container\">\n",
              "    <div>\n",
              "<style scoped>\n",
              "    .dataframe tbody tr th:only-of-type {\n",
              "        vertical-align: middle;\n",
              "    }\n",
              "\n",
              "    .dataframe tbody tr th {\n",
              "        vertical-align: top;\n",
              "    }\n",
              "\n",
              "    .dataframe thead th {\n",
              "        text-align: right;\n",
              "    }\n",
              "</style>\n",
              "<table border=\"1\" class=\"dataframe\">\n",
              "  <thead>\n",
              "    <tr style=\"text-align: right;\">\n",
              "      <th></th>\n",
              "      <th>이름</th>\n",
              "      <th>학년</th>\n",
              "      <th>학점</th>\n",
              "      <th>학과</th>\n",
              "      <th>동아리</th>\n",
              "    </tr>\n",
              "  </thead>\n",
              "  <tbody>\n",
              "    <tr>\n",
              "      <th>이영희</th>\n",
              "      <td>이영희</td>\n",
              "      <td>2</td>\n",
              "      <td>3.8</td>\n",
              "      <td>경영학</td>\n",
              "      <td>독서토론</td>\n",
              "    </tr>\n",
              "  </tbody>\n",
              "</table>\n",
              "</div>\n",
              "    <div class=\"colab-df-buttons\">\n",
              "\n",
              "  <div class=\"colab-df-container\">\n",
              "    <button class=\"colab-df-convert\" onclick=\"convertToInteractive('df-8000960f-2786-4a8a-bdbc-4b32c31eb8cd')\"\n",
              "            title=\"Convert this dataframe to an interactive table.\"\n",
              "            style=\"display:none;\">\n",
              "\n",
              "  <svg xmlns=\"http://www.w3.org/2000/svg\" height=\"24px\" viewBox=\"0 -960 960 960\">\n",
              "    <path d=\"M120-120v-720h720v720H120Zm60-500h600v-160H180v160Zm220 220h160v-160H400v160Zm0 220h160v-160H400v160ZM180-400h160v-160H180v160Zm440 0h160v-160H620v160ZM180-180h160v-160H180v160Zm440 0h160v-160H620v160Z\"/>\n",
              "  </svg>\n",
              "    </button>\n",
              "\n",
              "  <style>\n",
              "    .colab-df-container {\n",
              "      display:flex;\n",
              "      gap: 12px;\n",
              "    }\n",
              "\n",
              "    .colab-df-convert {\n",
              "      background-color: #E8F0FE;\n",
              "      border: none;\n",
              "      border-radius: 50%;\n",
              "      cursor: pointer;\n",
              "      display: none;\n",
              "      fill: #1967D2;\n",
              "      height: 32px;\n",
              "      padding: 0 0 0 0;\n",
              "      width: 32px;\n",
              "    }\n",
              "\n",
              "    .colab-df-convert:hover {\n",
              "      background-color: #E2EBFA;\n",
              "      box-shadow: 0px 1px 2px rgba(60, 64, 67, 0.3), 0px 1px 3px 1px rgba(60, 64, 67, 0.15);\n",
              "      fill: #174EA6;\n",
              "    }\n",
              "\n",
              "    .colab-df-buttons div {\n",
              "      margin-bottom: 4px;\n",
              "    }\n",
              "\n",
              "    [theme=dark] .colab-df-convert {\n",
              "      background-color: #3B4455;\n",
              "      fill: #D2E3FC;\n",
              "    }\n",
              "\n",
              "    [theme=dark] .colab-df-convert:hover {\n",
              "      background-color: #434B5C;\n",
              "      box-shadow: 0px 1px 3px 1px rgba(0, 0, 0, 0.15);\n",
              "      filter: drop-shadow(0px 1px 2px rgba(0, 0, 0, 0.3));\n",
              "      fill: #FFFFFF;\n",
              "    }\n",
              "  </style>\n",
              "\n",
              "    <script>\n",
              "      const buttonEl =\n",
              "        document.querySelector('#df-8000960f-2786-4a8a-bdbc-4b32c31eb8cd button.colab-df-convert');\n",
              "      buttonEl.style.display =\n",
              "        google.colab.kernel.accessAllowed ? 'block' : 'none';\n",
              "\n",
              "      async function convertToInteractive(key) {\n",
              "        const element = document.querySelector('#df-8000960f-2786-4a8a-bdbc-4b32c31eb8cd');\n",
              "        const dataTable =\n",
              "          await google.colab.kernel.invokeFunction('convertToInteractive',\n",
              "                                                    [key], {});\n",
              "        if (!dataTable) return;\n",
              "\n",
              "        const docLinkHtml = 'Like what you see? Visit the ' +\n",
              "          '<a target=\"_blank\" href=https://colab.research.google.com/notebooks/data_table.ipynb>data table notebook</a>'\n",
              "          + ' to learn more about interactive tables.';\n",
              "        element.innerHTML = '';\n",
              "        dataTable['output_type'] = 'display_data';\n",
              "        await google.colab.output.renderOutput(dataTable, element);\n",
              "        const docLink = document.createElement('div');\n",
              "        docLink.innerHTML = docLinkHtml;\n",
              "        element.appendChild(docLink);\n",
              "      }\n",
              "    </script>\n",
              "  </div>\n",
              "\n",
              "\n",
              "    </div>\n",
              "  </div>\n"
            ],
            "application/vnd.google.colaboratory.intrinsic+json": {
              "type": "dataframe",
              "summary": "{\n  \"name\": \"df[(df['\\ud559\\ub144'] == 2) & (df['\\ud559\\uc810'] >= 3\",\n  \"rows\": 1,\n  \"fields\": [\n    {\n      \"column\": \"\\uc774\\ub984\",\n      \"properties\": {\n        \"dtype\": \"string\",\n        \"num_unique_values\": 1,\n        \"samples\": [\n          \"\\uc774\\uc601\\ud76c\"\n        ],\n        \"semantic_type\": \"\",\n        \"description\": \"\"\n      }\n    },\n    {\n      \"column\": \"\\ud559\\ub144\",\n      \"properties\": {\n        \"dtype\": \"number\",\n        \"std\": null,\n        \"min\": 2,\n        \"max\": 2,\n        \"num_unique_values\": 1,\n        \"samples\": [\n          2\n        ],\n        \"semantic_type\": \"\",\n        \"description\": \"\"\n      }\n    },\n    {\n      \"column\": \"\\ud559\\uc810\",\n      \"properties\": {\n        \"dtype\": \"number\",\n        \"std\": null,\n        \"min\": 3.8,\n        \"max\": 3.8,\n        \"num_unique_values\": 1,\n        \"samples\": [\n          3.8\n        ],\n        \"semantic_type\": \"\",\n        \"description\": \"\"\n      }\n    },\n    {\n      \"column\": \"\\ud559\\uacfc\",\n      \"properties\": {\n        \"dtype\": \"string\",\n        \"num_unique_values\": 1,\n        \"samples\": [\n          \"\\uacbd\\uc601\\ud559\"\n        ],\n        \"semantic_type\": \"\",\n        \"description\": \"\"\n      }\n    },\n    {\n      \"column\": \"\\ub3d9\\uc544\\ub9ac\",\n      \"properties\": {\n        \"dtype\": \"string\",\n        \"num_unique_values\": 1,\n        \"samples\": [\n          \"\\ub3c5\\uc11c\\ud1a0\\ub860\"\n        ],\n        \"semantic_type\": \"\",\n        \"description\": \"\"\n      }\n    }\n  ]\n}"
            }
          },
          "metadata": {},
          "execution_count": 12
        }
      ]
    },
    {
      "cell_type": "markdown",
      "source": [
        "#### DataFrame 행 정렬\n",
        "\n",
        "> set_index('') - 일반 열이 아닌 인덱스로 설정\n",
        "\n",
        "> sort_values() - 오름차순 정렬\n",
        "\n",
        "> ascending = False - 내림차순 정렬"
      ],
      "metadata": {
        "id": "EX3RYr5jCfka"
      }
    },
    {
      "cell_type": "code",
      "source": [
        "import pandas as pd\n",
        "\n",
        "data = {\n",
        "    \"이름\": [\"김철수\", \"이영희\", \"박민수\", \"최지훈\", \"정소희\"],\n",
        "    \"학년\": [1, 2, 3, 4, 2],\n",
        "    \"학점\": [4.2, 3.8, 4.5, 3.9, 3.5],\n",
        "    \"학과\": [\"컴퓨터공학\", \"경영학\", \"전자공학\", \"의학\", \"심리학\"],\n",
        "    \"동아리\": [\"프로그래밍\", \"독서토론\", \"로봇공학\", \"봉사활동\", \"음악감상\"]\n",
        "}\n",
        "\n",
        "# DataFrame 인덱스 지정\n",
        "df_indexed = pd.DataFrame(data).set_index('이름')\n",
        "\n",
        "# DataFrame 단일 열 오름차순, 내림차순 정렬\n",
        "print(df.sort_values(by = '학점')) # 기본값은 ascending이 True\n",
        "print(df.sort_values(by = '학점', ascending = False))\n",
        "\n",
        "# DataFrame 복수 열 오름차순, 내림차순 정렬\n",
        "print(df.sort_values(by = ['학년', '학점'] , ascending = [True, False]))\n",
        "\n",
        "# DataFrame 인덱스 기분 오른차순, 내림차순 정렬\n",
        "print(df_indexed.sort_index())\n",
        "print(df_indexed.sort_index(ascending = False))"
      ],
      "metadata": {
        "id": "T9G-46ITYx7b",
        "outputId": "1b09be7d-2322-4506-9011-5b131a995b83",
        "colab": {
          "base_uri": "https://localhost:8080/",
          "height": 0
        }
      },
      "execution_count": 14,
      "outputs": [
        {
          "output_type": "stream",
          "name": "stdout",
          "text": [
            "      이름  학년   학점     학과    동아리\n",
            "정소희  정소희   2  3.5    심리학   음악감상\n",
            "이영희  이영희   2  3.8    경영학   독서토론\n",
            "최지훈  최지훈   4  3.9     의학   봉사활동\n",
            "김철수  김철수   1  4.2  컴퓨터공학  프로그래밍\n",
            "박민수  박민수   3  4.5   전자공학   로봇공학\n",
            "      이름  학년   학점     학과    동아리\n",
            "박민수  박민수   3  4.5   전자공학   로봇공학\n",
            "김철수  김철수   1  4.2  컴퓨터공학  프로그래밍\n",
            "최지훈  최지훈   4  3.9     의학   봉사활동\n",
            "이영희  이영희   2  3.8    경영학   독서토론\n",
            "정소희  정소희   2  3.5    심리학   음악감상\n",
            "      이름  학년   학점     학과    동아리\n",
            "김철수  김철수   1  4.2  컴퓨터공학  프로그래밍\n",
            "이영희  이영희   2  3.8    경영학   독서토론\n",
            "정소희  정소희   2  3.5    심리학   음악감상\n",
            "박민수  박민수   3  4.5   전자공학   로봇공학\n",
            "최지훈  최지훈   4  3.9     의학   봉사활동\n",
            "     학년   학점     학과    동아리\n",
            "이름                        \n",
            "김철수   1  4.2  컴퓨터공학  프로그래밍\n",
            "박민수   3  4.5   전자공학   로봇공학\n",
            "이영희   2  3.8    경영학   독서토론\n",
            "정소희   2  3.5    심리학   음악감상\n",
            "최지훈   4  3.9     의학   봉사활동\n",
            "     학년   학점     학과    동아리\n",
            "이름                        \n",
            "최지훈   4  3.9     의학   봉사활동\n",
            "정소희   2  3.5    심리학   음악감상\n",
            "이영희   2  3.8    경영학   독서토론\n",
            "박민수   3  4.5   전자공학   로봇공학\n",
            "김철수   1  4.2  컴퓨터공학  프로그래밍\n"
          ]
        }
      ]
    },
    {
      "cell_type": "markdown",
      "source": [
        "## 6-5 실습 시나리오 - Kaggle을 활용한 데이터 수집 및 측정"
      ],
      "metadata": {
        "id": "6ui5L5oe8HH-"
      }
    },
    {
      "cell_type": "markdown",
      "source": [
        "- Kaggle([https://www.kaggle.com](https://www.kaggle.com)) 회원 가입\n",
        "- Kaggle 접근 토큰 생성(API 키)\n"
      ],
      "metadata": {
        "id": "kX0puWUc8aNR"
      }
    },
    {
      "cell_type": "markdown",
      "source": [
        "### Kaggle API 키 업로드"
      ],
      "metadata": {
        "id": "RtoqM2Mc98fS"
      }
    },
    {
      "cell_type": "code",
      "source": [
        "from google.colab import files\n",
        "files.upload()"
      ],
      "metadata": {
        "id": "OlIwjX8vaAF6"
      },
      "execution_count": null,
      "outputs": []
    },
    {
      "cell_type": "markdown",
      "source": [
        "### Kaggle API 키 사용을 위한 Colab 환경 설정"
      ],
      "metadata": {
        "id": "V3YAacMY-KAV"
      }
    },
    {
      "cell_type": "code",
      "source": [
        "!mkdir -p ~/.kaggle\n",
        "!cp kaggle.json ~/.kaggle/\n",
        "!chmod 600 ~/.kaggle/kaggle.json"
      ],
      "metadata": {
        "id": "9bknQa2TaDRD"
      },
      "execution_count": null,
      "outputs": []
    },
    {
      "cell_type": "markdown",
      "source": [
        "### Kaggle 데이터셋 다운로드"
      ],
      "metadata": {
        "id": "Dv2PN16j-ip4"
      }
    },
    {
      "cell_type": "code",
      "source": [
        "!kaggle competitions download –c store-sales-time-series-forecasting\n",
        "\n",
        "!unzip store-sales-time-series-forecasting.zip"
      ],
      "metadata": {
        "id": "nemk0pNOaEvh"
      },
      "execution_count": null,
      "outputs": []
    },
    {
      "cell_type": "markdown",
      "source": [
        "### Kaggle 데이터셋 DataFrame 로드 및 살펴보기"
      ],
      "metadata": {
        "id": "o31gdHgx-pik"
      }
    },
    {
      "cell_type": "code",
      "source": [
        "import pandas as pd\n",
        "\n",
        "# Grocery Sales 데이터 DataFrame 로드\n",
        "train =  pd.read_csv('train.csv')\n",
        "stores =  pd.read_csv('stores.csv')\n",
        "transactions =  pd.read_csv('transactions.csv')\n",
        "oil =  pd.read_csv('oil.csv')\n",
        "holidays_events =  pd.read_csv('holidays_events.csv')\n",
        "\n",
        "# 판매 데이터 살펴보기\n",
        "train.info()"
      ],
      "metadata": {
        "id": "QSoBpU9caKQ-"
      },
      "execution_count": null,
      "outputs": []
    },
    {
      "cell_type": "markdown",
      "source": [
        "### Kaggle 데이터셋 측정"
      ],
      "metadata": {
        "id": "-B_aRee0_CXf"
      }
    },
    {
      "cell_type": "code",
      "source": [
        "# 판매 데이터 기본 통계량\n",
        "train.describe()\n",
        "\n",
        "# 매장 데이터 기본 정보\n",
        "stores.head()\n",
        "\n",
        "# 원유 가격 데이터 기본 정보\n",
        "oil.head()"
      ],
      "metadata": {
        "id": "d00dD1V0aNoO"
      },
      "execution_count": null,
      "outputs": []
    }
  ]
}