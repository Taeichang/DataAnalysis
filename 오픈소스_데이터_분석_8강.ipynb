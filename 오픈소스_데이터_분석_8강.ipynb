{
  "cells": [
    {
      "cell_type": "markdown",
      "metadata": {
        "id": "view-in-github",
        "colab_type": "text"
      },
      "source": [
        "<a href=\"https://colab.research.google.com/github/Taeichang/DataAnalysis/blob/main/%EC%98%A4%ED%94%88%EC%86%8C%EC%8A%A4_%EB%8D%B0%EC%9D%B4%ED%84%B0_%EB%B6%84%EC%84%9D_8%EA%B0%95.ipynb\" target=\"_parent\"><img src=\"https://colab.research.google.com/assets/colab-badge.svg\" alt=\"Open In Colab\"/></a>"
      ]
    },
    {
      "cell_type": "markdown",
      "metadata": {
        "id": "sJ-_K7V9snHK"
      },
      "source": [
        "# 오픈소스 기반 데이터 분석 8강"
      ]
    },
    {
      "cell_type": "markdown",
      "source": [
        "## 5.2 데이터 분석 방법론의 발전\n",
        "\n",
        "p.223"
      ],
      "metadata": {
        "id": "xy-q5BlU48cP"
      }
    },
    {
      "cell_type": "markdown",
      "source": [
        "### 5.2.1 선험적 지식을 활용한 규칙 기반 분석\n",
        "\n",
        "\n",
        "\n",
        "*   특정 조건과 규칙을 명시적으로 프로그래밍, 도메인 지식이 직접적으로 분석 과정에 반영, 'if-then'\n",
        "*   한계 -> 패턴을 자동으로 학습할 수 있는 통계적 방법론 등장\n",
        "    * 복잡하고 비선형적 패턴을 포착하기 어려움\n",
        "    * 새로운 상황이나 예외적인 경우에 대한 일반화 능력 부족\n",
        "    * 규칙의 유지 관리가 어려움\n",
        "\n"
      ],
      "metadata": {
        "id": "XqjQezY3uZPP"
      }
    },
    {
      "cell_type": "markdown",
      "metadata": {
        "id": "7iUhflCxPcH0"
      },
      "source": [
        "### 5.2.2 통계적 모형을 활용한 분석 (statsmodels)\n",
        "\n",
        "\n",
        "\n",
        "*   데이터에 내재된 불확실성을 명시적으로 다룰 수 있음\n",
        "*   한계 -> 유연하고 패턴 인식 능력을 간춘 기계학습 방법론 등장\n",
        "    * 데이터가 특정 분포를 따른다는 가정\n",
        "    * 변수 간의 선형성, 관측치의 독립성 등의 가정에 기반\n",
        "\n",
        "\n",
        "\n",
        "*   기술통계(descriptive statistics)\n",
        "    * 데이터의 주요 특성을 요약하고 설명\n",
        "*   추론통계(inferential statistics)\n",
        "    * 표본 데이터를 바탕으로 모집단에 대한 일반화된 결론 도출\n",
        "    * 우연인지, 의미 있는 관계 반영한 것인지 판단\n",
        "* 회귀분석(regression analysis)\n",
        "    * 여러 데이터 간의 관계를 파악, 한 값이 변할때 다른 값의 변화 예측\n",
        "\n"
      ]
    },
    {
      "cell_type": "code",
      "execution_count": null,
      "metadata": {
        "id": "vsS87Vx9dV6z"
      },
      "outputs": [],
      "source": [
        "import pandas as pd\n",
        "import random\n",
        "import statsmodels.formula.api as smf\n",
        "\n",
        "# 난수 시드 설정\n",
        "random.seed(1)\n",
        "\n",
        "# 데이터 생성\n",
        "X = list(range(1, 11))\n",
        "y = [2*x + 1 + random.gauss(0, 1) for x in X]\n",
        "data = pd.DataFrame({'X': X, 'y': y})\n",
        "\n",
        "# OLS(최소 제곱법) 회귀 모델 생성 및 학습\n",
        "# 'y'를 종속 변수로 하고 다른 특성(X)을 독립 변수로 사용\n",
        "model = smf.ols(formula = 'y ~ X', data = data).fit()\n",
        "# 모델 요약 결과 출력\n",
        "print(model.summary())"
      ]
    },
    {
      "cell_type": "markdown",
      "metadata": {
        "id": "DEYBAflNPcH6"
      },
      "source": [
        "### 5.2.3 기계학습을 활용한 고도화된 분석 (scikit-learn)\n",
        "\n",
        "* 규칙을 반영한 프로그래밍 없이 데이터로부터 자동으로 패턴을 학습하고 예측, 자동화, 정교화\n",
        "* 특성 추출(feature extraction)을 위해 전문가 개입 필요\n",
        "* 지도학습(supervised learning)\n",
        "    * 입력값과 대응하는 정답(레이블)이 함께 제공\n",
        "    * 분류(classification), 회귀(regression)\n",
        "\n",
        "* 비지도학습(unsupervised learning)\n",
        "    * 정답(레이블) 없이 패턴과 구조 발견\n",
        "    * 군집화(clustering), 차원축소(dimensionality reeduction), 연관규칙학습(association rule learning)\n",
        "* 강화학습(reinforcement learning)\n",
        "    * 환경과 상호작용하는 에이전트가 보상을 최대화하는 행동 정책을 학습\n",
        "\n",
        "* 한계\n",
        "    * 블랙박스 문제: 모델의 복잡성으로 인해 의사결정 과정을 이해하고 설명하기 어려움\n",
        "    * 충분한 데이터 양 필요, 편향된 경우 모델의 성능성 저하\n",
        "    * 과적합(overfitting) 문제 발생: 우연한 노이즈까지 학습, 일반화 성능이 떨어짐"
      ]
    },
    {
      "cell_type": "code",
      "execution_count": null,
      "metadata": {
        "id": "ptis5NADdZbj"
      },
      "outputs": [],
      "source": [
        "from sklearn.ensemble import RandomForestClassifier\n",
        "from sklearn.model_selection import train_test_split\n",
        "from sklearn.metrics import accuracy_score\n",
        "from sklearn.datasets import load_breast_cancer\n",
        "\n",
        "# 데이터 로드 및 분할\n",
        "cancer = load_breast_cancer()\n",
        "X, y = cancer.data, cancer.target\n",
        "\n",
        "# 학습/테스트 데이터셋 분할\n",
        "X_train, X_test, y_train, y_test = train_test_split(X, y, test_size=0.3, random_state=42)\n",
        "\n",
        "# 랜덤 포레스트 모델 생성 및 학습\n",
        "rf_model = RandomForestClassifier(n_estimators = 100, random_state = 42)\n",
        "rf_model.fit(X_train, y_train)\n",
        "\n",
        "# 예측 및 정확도 평가\n",
        "y_pred = rf_model.predict(X_test)\n",
        "accuracy = accuracy_score(y_test, y_pred)\n",
        "print(f'모델 정확도: {accuracy:.4f}')"
      ]
    },
    {
      "cell_type": "markdown",
      "metadata": {
        "id": "7WvneUhOPcH9"
      },
      "source": [
        "### 5.2.4 딥러닝과 인공지능을 모형의 활용 (tensorflow)\n",
        "\n",
        "* 다층 인공 신경망을 기반으로 하는 고급 기계학습 방법론, 복잡한 비선형 패턱 학습 탁월, 비정형 데이터 분석 탁월\n",
        "* 계층적 표현 학습(Hierarchical Representation Learning, HRL)을 통해 복잡한 패턴도 효과적으로 학습\n",
        "* 대규모 언어모델(Large Language Models, LLMs): 방대한 텍스트 데이터로 사전 학습되어, 다양한 자연어 처리 작업에 활용\n",
        "* 요구사항 및 제약\n",
        "    * 대규모 레이블된 테이터 필요\n",
        "    * 학습 데이터가 없는 경우, 전이학습(transfer learning)이나 준지도학습(semi-supervised learning) 활용\n",
        "    * 컴퓨팅 자원 필요 (CPU나 TCP 같은 특수 하드웨어), 비용과 접근성 제약\n",
        "    * 해석하기 어렵고, 블랙박스 특성 존재\n",
        "* 분류 보고서의 불균형은 특정 클래스의 특성이 더 쉽게 학습되거나, 클래스 간 혼동이 발생할 수 있음을 시사"
      ]
    },
    {
      "cell_type": "code",
      "execution_count": null,
      "metadata": {
        "id": "Ze_9DpFddcTQ"
      },
      "outputs": [],
      "source": [
        "import tensorflow as tf\n",
        "from sklearn.metrics import classification_report\n",
        "\n",
        "# CIFAR-10 데이터셋 로드 및 전처리\n",
        "(x_train, y_train), (x_test, y_test) = tf.keras.datasets.cifar10.load_data()\n",
        "x_train, x_test = x_train/255.0, x_test/255.0\n",
        "\n",
        "# MobileNetV2 기반 모델 구축\n",
        "base_model = tf.keras.applications.MobileNetV2(weights='imagenet', include_top=False, input_shape=(160, 160, 3))\n",
        "base_model.trainable = False\n",
        "model = tf.keras.Sequential([\n",
        "    tf.keras.layers.Resizing(160, 160),\n",
        "    base_model,\n",
        "    tf.keras.layers.GlobalAveragePooling2D(),\n",
        "    tf.keras.layers.Dense(10)\n",
        "])\n",
        "\n",
        "# 모델 컴파일\n",
        "model.compile(optimizer=tf.keras.optimizers.Adam(learning_rate=0.001),\n",
        "              loss=tf.keras.losses.SparseCategoricalCrossentropy(from_logits=True),\n",
        "              metrics=['accuracy'])\n",
        "\n",
        "# 모델 학습\n",
        "model.fit(x_train, y_train, epochs=3, validation_split=0.2)\n",
        "\n",
        "# 예측 및 성능 평가\n",
        "y_pred = tf.argmax(model.predict(x_test), axis=1)\n",
        "print(\"\\nTest Accuracy:\", model.evaluate(x_test, y_test, verbose=0)[1])\n",
        "print(\"\\nClassification Report:\\n\", classification_report(y_test, y_pred))"
      ]
    },
    {
      "cell_type": "markdown",
      "source": [
        "## 5.3 탐색적 데이터 분석(EDA)"
      ],
      "metadata": {
        "id": "bw-gf6GROezy"
      }
    },
    {
      "cell_type": "markdown",
      "metadata": {
        "id": "YNB7tpokPcH_"
      },
      "source": [
        "### 5.3.1 EDA의 개념과 중요성\n",
        "\n",
        "* 귀납적 접근법\n",
        "* 탐험적 성격이 강함, 시각화 중심적, 반복적이고 상호작용적\n",
        "* 데이터 품질 평가 및 문제 조기 발견, 변수 간 관계와 패턴 파악, 분석 방향과 가설 수립, 모델 선택과 설계 가이드 제공, 도메인 지식과 데이터의 연결"
      ]
    },
    {
      "cell_type": "code",
      "execution_count": null,
      "metadata": {
        "id": "jhF8O0CkdgwC"
      },
      "outputs": [],
      "source": [
        "import pandas as pd\n",
        "import matplotlib.pyplot as plt\n",
        "import seaborn as sns\n",
        "from sklearn.datasets import load_diabetes\n",
        "\n",
        "# 당뇨병 데이터셋 로드 및 데이터프레임 생성\n",
        "diabetes = load_diabetes()\n",
        "df = pd.DataFrame(diabetes.data, columns=diabetes.feature_names)\n",
        "df['target'] = diabetes.target\n",
        "\n",
        "# dataframe의 describe를 이용하여 기본 통계량 출력\n",
        "print(\"=== 기본 통계량 ===\")\n",
        "print(df.describe())\n",
        "\n",
        "# 상관 행렬 시각화\n",
        "plt.figure(figsize=(12,8))\n",
        "# dataframe의 각 열(변수)들 간의 상관 계수(correlation coefficient)를 계산하고 corr_matrix로 저장\n",
        "corr_matrix = df.corr()\n",
        "# seaborn으로 corr_matrix를 heatmap으로 시각화\n",
        "sns.heatmap(corr_matrix, annot=True)\n",
        "plt.title('Diabetes Dataset Correlation Matrix')\n",
        "plt.show()"
      ]
    },
    {
      "cell_type": "markdown",
      "metadata": {
        "id": "EuoWU4FFPcIA"
      },
      "source": [
        "### 5.3.1 EDA 수행"
      ]
    },
    {
      "cell_type": "code",
      "execution_count": null,
      "metadata": {
        "id": "qLSGHj3ddkWf"
      },
      "outputs": [],
      "source": [
        "import pandas as pd\n",
        "import seaborn as sns\n",
        "\n",
        "# 아이리스 데이터셋 로드\n",
        "df = sns.load_dataset('iris')\n",
        "\n",
        "# 기술 통계량\n",
        "print(\"=== 기본 통계량 ===\")\n",
        "print(df.describe())\n",
        "\n",
        "# 데이터 미리보기\n",
        "print(\"\\n=== 데이터 미리보기 ===\")\n",
        "print(df.head())\n",
        "\n",
        "# 그룹별 통계정보\n",
        "print(\"\\n=== 품종별 평균값 ===\")\n",
        "print(df.groupby('species').mean())"
      ]
    },
    {
      "cell_type": "markdown",
      "metadata": {
        "id": "LFOLMIFtPcID"
      },
      "source": [
        "#### Marplotlib와 Seaborn을 사용한 데이터 시각화의 예"
      ]
    },
    {
      "cell_type": "code",
      "execution_count": null,
      "metadata": {
        "id": "-6b3cp7UPcID"
      },
      "outputs": [],
      "source": [
        "# 한글 처리를 위한 matplotlib 설정 (1)\n",
        "\n",
        "!sudo apt-get install -y fonts-nanum\n",
        "!sudo fc-cache –fv\n",
        "!rm ~/.cache/matplotlib -rf"
      ]
    },
    {
      "cell_type": "markdown",
      "metadata": {
        "id": "LGWiB2Z-PcIE"
      },
      "source": [
        "- 리소스 재시작"
      ]
    },
    {
      "cell_type": "code",
      "execution_count": null,
      "metadata": {
        "id": "sV1HYIOBPcIE"
      },
      "outputs": [],
      "source": [
        "# 한글 처리를 위한 matplotlib 설정 (2)\n",
        "\n",
        "import matplotlib.pyplot as plt\n",
        "plt.rc('font', family='NanumBarunGothic')"
      ]
    },
    {
      "cell_type": "code",
      "execution_count": null,
      "metadata": {
        "id": "ekh3vzrsdrBd"
      },
      "outputs": [],
      "source": [
        "import matplotlib.pyplot as plt\n",
        "import seaborn as sns\n",
        "\n",
        "# 아이리스 데이터셋 로드\n",
        "df = sns.load_dataset('iris')\n",
        "\n",
        "# 서브플롯 설정\n",
        "plt.figure(figsize=(9, 12))\n",
        "plt.suptitle('Iris 데이터셋 시각화', y=1.02, fontsize=14)\n",
        "\n",
        "# 첫 번째 서브플롯: 꽃잎 길이 분포 (히스토그램)\n",
        "plt.subplot(4, 1, 1)\n",
        "sns.histplot(df['petal_length'], bins = 10, kde = True)\n",
        "# seaborn을 이용하여 petal_length를 10개 구간으로 나누어 히스토그램 표시\n",
        "plt.title('꽃잎 길이 분포')\n",
        "plt.xlabel('꽃잎 길이 (cm)')\n",
        "\n",
        "# 두 번째 서브플롯: 꽃잎 길이 vs 너비 (산점도)\n",
        "plt.subplot(4, 1, 2)\n",
        "species_list = df['species'].unique()\n",
        "colors = {'setosa':'red', 'versicolor':'green', 'virginica':'blue'}\n",
        "\n",
        "for species in species_list:\n",
        "    species_data = df[df['species'] == species]\n",
        "    # matplotlib를 이용하여 길이, 넓이를 산점도로 표시\n",
        "    plt.scatter(\n",
        "        species_data['petal_length'],\n",
        "        species_data['petal_width'],\n",
        "        c = colors[species],\n",
        "        label = species,\n",
        "        alpha = 0.7\n",
        "        )\n",
        "plt.title('꽃잎 길이 vs 너비')\n",
        "plt.xlabel('꽃잎 길이 (cm)')\n",
        "plt.ylabel('꽃잎 너비 (cm)')\n",
        "plt.legend()\n",
        "\n",
        "# 세 번째 서브플롯: 품종별 꽃받침 길이 (박스플롯)\n",
        "plt.subplot(4, 1, 3)\n",
        "# seaborn을 이용하여 품종 별 꽃받침 길이를 박스플롯으로 표시\n",
        "sns.boxplot(x = 'species', y = 'sepal_length', data = df, palette = colors)\n",
        "plt.title('품종별 꽃받침 길이 비교')\n",
        "plt.xlabel('품종')\n",
        "plt.ylabel('꽃받침 길이 (cm)')\n",
        "\n",
        "# 네 번째 서브플롯: 숫자형 특성 간 상관관계 (히트맵)\n",
        "plt.subplot(4, 1, 4)\n",
        "numeric_df = df.select_dtypes(include='number')\n",
        "corr = numeric_df.corr()\n",
        "sns.heatmap(corr, annot=True, cmap='coolwarm', fmt=\".2f\")\n",
        "plt.title('숫자형 특성 간 상관관계')\n",
        "\n",
        "# 레이아웃 조정 및 그래프 표시\n",
        "plt.tight_layout()\n",
        "plt.show()"
      ]
    },
    {
      "cell_type": "markdown",
      "metadata": {
        "id": "1H7M1jS8PcIF"
      },
      "source": [
        "### 5.3.3 자동화된 EDA 도구\n",
        "\n",
        "* 데이터셋에 대한 종합적 보고서를 생성\n",
        "* 전문가의 분석을 보완하는 역할"
      ]
    },
    {
      "cell_type": "code",
      "source": [
        "!pip install ydata_profiling"
      ],
      "metadata": {
        "id": "dy1sEcfoK2oa"
      },
      "execution_count": null,
      "outputs": []
    },
    {
      "cell_type": "code",
      "execution_count": null,
      "metadata": {
        "id": "ZXR2-oPkdrmN"
      },
      "outputs": [],
      "source": [
        "import seaborn as sns\n",
        "from ydata_profiling import ProfileReport\n",
        "\n",
        "# 아이리스 데이터셋 로드\n",
        "df = sns.load_dataset('iris')\n",
        "\n",
        "# 데이터 프로파일링 보고서 생성\n",
        "profile = ProfileReport(df, title = '붓꽃 데이터셋 분석 보고서')\n",
        "# HTML 파일로 보고서 저장\n",
        "profile.to_file('iris_profile.html')\n",
        "# 보고서 표시 (Jupyter Notebook 환경에서 보고서가 바로 표시됨)\n",
        "profile"
      ]
    }
  ],
  "metadata": {
    "colab": {
      "provenance": [],
      "gpuType": "T4",
      "include_colab_link": true
    },
    "kernelspec": {
      "display_name": "Python 3",
      "name": "python3"
    },
    "language_info": {
      "codemirror_mode": {
        "name": "ipython",
        "version": 3
      },
      "file_extension": ".py",
      "mimetype": "text/x-python",
      "name": "python",
      "nbconvert_exporter": "python",
      "pygments_lexer": "ipython3",
      "version": "3.8.10"
    },
    "accelerator": "GPU"
  },
  "nbformat": 4,
  "nbformat_minor": 0
}