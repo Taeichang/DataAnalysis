{
  "cells": [
    {
      "cell_type": "markdown",
      "metadata": {
        "id": "view-in-github",
        "colab_type": "text"
      },
      "source": [
        "<a href=\"https://colab.research.google.com/github/Taeichang/DataAnalysis/blob/main/%EC%98%A4%ED%94%88%EC%86%8C%EC%8A%A4_%EB%8D%B0%EC%9D%B4%ED%84%B0_%EB%B6%84%EC%84%9D_2%EA%B0%95.ipynb\" target=\"_parent\"><img src=\"https://colab.research.google.com/assets/colab-badge.svg\" alt=\"Open In Colab\"/></a>"
      ]
    },
    {
      "cell_type": "markdown",
      "metadata": {
        "id": "DkPKaAsoRq5Q"
      },
      "source": [
        "\n",
        "\n",
        "# 오픈소스 기반 데이터 분석 2강 - 데이터 분석을 위한 파이썬 1\n"
      ]
    },
    {
      "cell_type": "markdown",
      "source": [
        "## 2.1 리스트와 딕셔너리"
      ],
      "metadata": {
        "id": "JI2uC5o_eAHH"
      }
    },
    {
      "cell_type": "markdown",
      "metadata": {
        "id": "-I7BVVlnRrB0"
      },
      "source": [
        "### 2.1.1 리스트 슬라이싱\n",
        "\n",
        "\n",
        "\n",
        "> 리스트이름[시작 인덱스:끝 인덱스: 간격]\n",
        "\n",
        "\n",
        "\n",
        "*   리스트의 일부분만을 선택 및 추출하여 새로운 리스트로 만드는 기법\n",
        "*   반복문 없이 리스트의 특정 구간을 손쉽게 추출\n",
        "*   끝 인덱스에 해당하는 원소는 결과에 포함되지 않음\n",
        "*   시작/끝 인덱스 생략 가능\n",
        "*   음수 인덱스는 리스트의 끝에서부터 요소를 선택\n",
        "\n",
        "\n",
        "\n",
        "\n"
      ]
    },
    {
      "cell_type": "markdown",
      "source": [
        "#### 리스트에서 특정 범위 요소 추출"
      ],
      "metadata": {
        "id": "mj5z5ZFwek2X"
      }
    },
    {
      "cell_type": "code",
      "execution_count": null,
      "metadata": {
        "id": "2Y2HEiaiRwAI",
        "outputId": "4a402e81-f592-4288-9372-4ca0f149225e",
        "colab": {
          "base_uri": "https://localhost:8080/"
        }
      },
      "outputs": [
        {
          "output_type": "stream",
          "name": "stdout",
          "text": [
            "[10, 20, 30, 40]\n",
            "[50, 60, 70]\n"
          ]
        }
      ],
      "source": [
        "numbers = [10, 20, 30, 40, 50, 60, 70]\n",
        "# 첫 4개의 원소 출력\n",
        "first_four = numbers[:4]\n",
        "print(first_four)\n",
        "\n",
        "# 뒤 3개의 원소를 출력\n",
        "last_three = numbers[-3:]\n",
        "print(last_three)"
      ]
    },
    {
      "cell_type": "markdown",
      "source": [
        "#### 간격을 활용한 리스트 슬라이싱 예"
      ],
      "metadata": {
        "id": "ZJrttlWkRASM"
      }
    },
    {
      "cell_type": "code",
      "execution_count": null,
      "metadata": {
        "id": "IO8bsKekR0W_",
        "outputId": "f58474e8-14eb-4fea-c737-db80acc98b59",
        "colab": {
          "base_uri": "https://localhost:8080/"
        }
      },
      "outputs": [
        {
          "output_type": "stream",
          "name": "stdout",
          "text": [
            "[10, 30, 50, 70]\n",
            "[70, 60, 50, 40, 30, 20, 10]\n"
          ]
        }
      ],
      "source": [
        "numbers = [10, 20, 30, 40, 50, 60, 70]\n",
        "# 홀수번째 항목 출력\n",
        "every_other_list = numbers[::2]\n",
        "print(every_other_list)\n",
        "\n",
        "# 역순 출력\n",
        "reverse_list = numbers[::-1]\n",
        "print(reverse_list)"
      ]
    },
    {
      "cell_type": "markdown",
      "source": [
        "\n",
        "#### 다차원 리스트 슬라이싱의 예\n",
        "\n"
      ],
      "metadata": {
        "id": "rDoenDFaRLbs"
      }
    },
    {
      "cell_type": "code",
      "execution_count": null,
      "metadata": {
        "id": "60qOf7uxVdAg",
        "outputId": "52b43993-b6aa-4d9f-b882-ff142e8f412c",
        "colab": {
          "base_uri": "https://localhost:8080/"
        }
      },
      "outputs": [
        {
          "output_type": "stream",
          "name": "stdout",
          "text": [
            "[[1, 2, 3, 4], [5, 6, 7, 8]]\n",
            "[[1, 2], [5, 6], [9, 10], [13, 14]]\n"
          ]
        }
      ],
      "source": [
        "matrix = [\n",
        "    [1, 2, 3, 4],\n",
        "    [5, 6, 7, 8],\n",
        "    [9, 10, 11, 12],\n",
        "    [13, 14, 15, 16]\n",
        "]\n",
        "\n",
        "# 첫 두 행 출력\n",
        "first_two_rows = matrix[0:2]\n",
        "print(first_two_rows)\n",
        "\n",
        "# 첫 두 열 출력\n",
        "first_two_columns = [row[0:2] for row in matrix]\n",
        "print(first_two_columns)"
      ]
    },
    {
      "cell_type": "markdown",
      "source": [
        "#### 리스트 슬라이싱을 사용한 리스트 값 변경"
      ],
      "metadata": {
        "id": "Mld2gWi-RTW8"
      }
    },
    {
      "cell_type": "markdown",
      "source": [
        "*   리스트 값 변경 시 길이는 변하지 않으며, 선택한 구간만 변경"
      ],
      "metadata": {
        "id": "LNjZY4VsDbws"
      }
    },
    {
      "cell_type": "code",
      "source": [
        "numbers = [10, 20, 30, 40, 50, 60, 70]\n",
        "numbers[2:5] = [300, 400, 500]\n",
        "print(numbers)"
      ],
      "metadata": {
        "colab": {
          "base_uri": "https://localhost:8080/"
        },
        "id": "7NKcy_YaRZls",
        "outputId": "d46632d1-ea7f-401f-f75c-cf12d0c8c7a7"
      },
      "execution_count": null,
      "outputs": [
        {
          "output_type": "stream",
          "name": "stdout",
          "text": [
            "[10, 20, 300, 400, 500, 60, 70]\n"
          ]
        }
      ]
    },
    {
      "cell_type": "markdown",
      "source": [
        "### 2.1.2 리스트 컴프리헨션\n",
        "\n",
        "\n",
        "\n",
        "> [표현식 for  변수 in 리스트 이름]\n",
        "\n",
        "> [표현식 for  변수 in 리스트 이름 if 조건문]\n",
        "\n",
        "\n",
        "* 리스트 슬라이싱은 원소 일부 추출, 리스트 컴프리헨션은 특정 조건 만족/특정 요소 별도 처리\n",
        "*   리스트 생성 시 반복문 활용하여 원소를 하나씩 추가하는 방식. 리스트 컴프리헨션 활용시 짧은 코드로 동일한 결과 얻음\n",
        "*   리스트를 포함한 반복 가능한 객체에 적용 가능 (for문과 같이 순차적으로 요소를 가져올 수 있는 객체)"
      ],
      "metadata": {
        "id": "YuehcCwyR58U"
      }
    },
    {
      "cell_type": "markdown",
      "source": [
        "#### 리스트 컴프리헨션을 사용한 리스트 생성"
      ],
      "metadata": {
        "id": "OgbZ2K3GTQb1"
      }
    },
    {
      "cell_type": "code",
      "source": [
        "# 0 ~ 4 포함 일반적인 리스트 생성\n",
        "numbers = [ ]\n",
        "for i in range(5):\n",
        "    numbers.append(i)\n",
        "print(numbers)"
      ],
      "metadata": {
        "colab": {
          "base_uri": "https://localhost:8080/"
        },
        "id": "iOKLu7DQTutE",
        "outputId": "bdbb66d0-8fa6-40f4-cb90-4973b16146eb"
      },
      "execution_count": null,
      "outputs": [
        {
          "output_type": "stream",
          "name": "stdout",
          "text": [
            "[0, 1, 2, 3, 4]\n"
          ]
        }
      ]
    },
    {
      "cell_type": "code",
      "execution_count": null,
      "metadata": {
        "id": "JpmgdsW9V0CY",
        "outputId": "eeb7db45-dccb-44f5-dbe4-c9879e730978",
        "colab": {
          "base_uri": "https://localhost:8080/"
        }
      },
      "outputs": [
        {
          "output_type": "stream",
          "name": "stdout",
          "text": [
            "[0, 1, 2, 3, 4]\n"
          ]
        }
      ],
      "source": [
        "numbers = [num for num in range(5)]\n",
        "print(numbers)"
      ]
    },
    {
      "cell_type": "markdown",
      "source": [
        "#### 리스트 컴프리헨션을 통한 값이 변경된 리스트 생성"
      ],
      "metadata": {
        "id": "yTyY8zHWUEAd"
      }
    },
    {
      "cell_type": "code",
      "source": [
        "# numbers의 모든 항목의 값을 제곱한 리스트\n",
        "numbers = [1, 2, 3, 4, 5]\n",
        "squares = [ ]\n",
        "for num in numbers:\n",
        "  squares.append(num ** 2)\n",
        "\n",
        "print(squares)"
      ],
      "metadata": {
        "colab": {
          "base_uri": "https://localhost:8080/"
        },
        "id": "kccXlWQVUEQs",
        "outputId": "77bb5a0f-4592-422c-de05-14add82886d7"
      },
      "execution_count": null,
      "outputs": [
        {
          "output_type": "stream",
          "name": "stdout",
          "text": [
            "[1, 4, 9, 16, 25]\n"
          ]
        }
      ]
    },
    {
      "cell_type": "markdown",
      "source": [
        "*   리스트의 값을 반환하는 데 유용"
      ],
      "metadata": {
        "id": "USckqHsxED5A"
      }
    },
    {
      "cell_type": "code",
      "execution_count": null,
      "metadata": {
        "id": "cRC8x3_iW0im",
        "outputId": "aa7f1a24-6f52-493f-a287-20e61ed5efd1",
        "colab": {
          "base_uri": "https://localhost:8080/"
        }
      },
      "outputs": [
        {
          "output_type": "stream",
          "name": "stdout",
          "text": [
            "[1, 4, 9, 16, 25]\n"
          ]
        }
      ],
      "source": [
        "numbers = [1, 2, 3, 4, 5]\n",
        "squares = [num ** 2 for num in numbers]\n",
        "print(squares)"
      ]
    },
    {
      "cell_type": "markdown",
      "source": [
        "#### 리스트 컴프리헨션을 사용한 특정 원소 선택 후 리스트 생성"
      ],
      "metadata": {
        "id": "sR9QBWZcU3Yl"
      }
    },
    {
      "cell_type": "code",
      "source": [
        "# 짝수만 추출한 리스트\n",
        "numbers = [1, 2, 3, 4, 5, 6, 7, 8, 9, 10]\n",
        "even_numbers = [ ]\n",
        "for num in numbers:\n",
        "    if num % 2 == 0:\n",
        "        even_numbers.append(num)\n",
        "print(even_numbers)"
      ],
      "metadata": {
        "colab": {
          "base_uri": "https://localhost:8080/"
        },
        "id": "t2sn56X7U940",
        "outputId": "fc8f1148-9da7-4d09-a0d1-a1b5656b5b0c"
      },
      "execution_count": null,
      "outputs": [
        {
          "output_type": "stream",
          "name": "stdout",
          "text": [
            "[2, 4, 6, 8, 10]\n"
          ]
        }
      ]
    },
    {
      "cell_type": "markdown",
      "source": [
        "*   특정 조건을 만족하는 요소만 선택해 새로운 리스트 생성"
      ],
      "metadata": {
        "id": "ntQQdhJOEIP_"
      }
    },
    {
      "cell_type": "code",
      "execution_count": null,
      "metadata": {
        "id": "MAvimjk6Fqlc",
        "outputId": "864bb2c7-e184-44b4-c206-4a7a3652e0e5",
        "colab": {
          "base_uri": "https://localhost:8080/"
        }
      },
      "outputs": [
        {
          "output_type": "stream",
          "name": "stdout",
          "text": [
            "[2, 4, 6, 8, 10]\n"
          ]
        }
      ],
      "source": [
        "numbers = [1, 2, 3, 4, 5, 6, 7, 8, 9, 10]\n",
        "even_numbers = [num for num in numbers if num % 2 == 0]\n",
        "print(even_numbers)"
      ]
    },
    {
      "cell_type": "markdown",
      "source": [
        "#### 리스트 컴프리헨션을 사용하여 두 리스트의 모든 조합을 포함한 리스트 생성"
      ],
      "metadata": {
        "id": "ITpmhFvwVLtE"
      }
    },
    {
      "cell_type": "markdown",
      "source": [
        "*   중첩 반복문과 함께 사용\n",
        "*   순회하면서 쌍으로 묶어 튜플을 생성"
      ],
      "metadata": {
        "id": "WIhErboqERy1"
      }
    },
    {
      "cell_type": "code",
      "source": [
        "# 두 리스트에 포함되 모든 원소를 조합한 투플의 리스트 생성\n",
        "list1 = ['사과', '복숭아', '바나나']\n",
        "list2 = ['주스', '잼', '통조림']\n",
        "pairs = [ ]\n",
        "for fruit in list1:\n",
        "    for product in list2:\n",
        "        pairs.append((fruit, product))\n",
        "print(pairs)"
      ],
      "metadata": {
        "colab": {
          "base_uri": "https://localhost:8080/"
        },
        "id": "ZZdUqLgXVYtl",
        "outputId": "df9a4412-e261-4418-fd76-d18d80bd66a3"
      },
      "execution_count": null,
      "outputs": [
        {
          "output_type": "stream",
          "name": "stdout",
          "text": [
            "[('사과', '주스'), ('사과', '잼'), ('사과', '통조림'), ('복숭아', '주스'), ('복숭아', '잼'), ('복숭아', '통조림'), ('바나나', '주스'), ('바나나', '잼'), ('바나나', '통조림')]\n"
          ]
        }
      ]
    },
    {
      "cell_type": "code",
      "execution_count": null,
      "metadata": {
        "id": "HGO8XTxBFqld",
        "outputId": "dff07bd0-c357-4930-ae85-d2629ca79512",
        "colab": {
          "base_uri": "https://localhost:8080/"
        }
      },
      "outputs": [
        {
          "output_type": "stream",
          "name": "stdout",
          "text": [
            "[('사과', '주스'), ('사과', '잼'), ('사과', '통조림'), ('복숭아', '주스'), ('복숭아', '잼'), ('복숭아', '통조림'), ('바나나', '주스'), ('바나나', '잼'), ('바나나', '통조림')]\n"
          ]
        }
      ],
      "source": [
        "list1 = ['사과', '복숭아', '바나나']\n",
        "list2 = ['주스', '잼', '통조림']\n",
        "pairs = [(friut, product) for friut in list1 for product in list2]\n",
        "print(pairs)"
      ]
    },
    {
      "cell_type": "markdown",
      "source": [
        "### 2.1.3 딕셔너리 컴프리헨션\n",
        "\n",
        ">{키: 값 for 변수 in 반복가능객체}\n",
        "\n",
        ">{키: 값 for 변수 in 반복가능객체 if 조건}\n",
        "\n",
        "\n",
        "\n",
        "*   키-값으로 쌍으로 이루어진 데이터 구조를 생성하는 데 최적화\n",
        "*   데이터의 구조를 변경하거나 특정 조건에 따라 데이터를 필터링 할 때 유용\n",
        "*   특정 조건을 만족하는 요소만 선택하여 새 딕셔너리 생성 가능\n",
        "*   리스트의 [] 연산자 대신 딕셔너리의 {} 연산자 사용\n",
        "*   '조건'은 논리식이 True를 반환하는 항목만 새 딕셔너리에 포함\n",
        "\n",
        ">  item() 메서드는 딕셔너리의 각 항목을 (키,값) 튜플의 리스트로 반환\n"
      ],
      "metadata": {
        "id": "VVwFBtFeVoqF"
      }
    },
    {
      "cell_type": "markdown",
      "source": [
        "#### 딕셔너리 컴프리헨션을 사용한 반복문"
      ],
      "metadata": {
        "id": "8UOsfU0_RZs-"
      }
    },
    {
      "cell_type": "code",
      "execution_count": null,
      "metadata": {
        "id": "K-BPhFTUFqle",
        "outputId": "e8a58ab5-86a8-49a1-d2c3-67c1e8a19ec9",
        "colab": {
          "base_uri": "https://localhost:8080/"
        }
      },
      "outputs": [
        {
          "output_type": "stream",
          "name": "stdout",
          "text": [
            "{0: 0, 1: 1, 2: 4, 3: 9, 4: 16}\n"
          ]
        }
      ],
      "source": [
        "# 딕셔너리 생성\n",
        "squares = { }\n",
        "for i in range(5):\n",
        "    squares[i] = i ** 2\n",
        "print(squares)"
      ]
    },
    {
      "cell_type": "markdown",
      "source": [
        "*   키-값의 쌍을 표현하고 for문을 한 라인으로 표현하여 완성"
      ],
      "metadata": {
        "id": "nhj1ch1HEoRN"
      }
    },
    {
      "cell_type": "code",
      "source": [
        "squares = {i: i ** 2 for i in range(5)}\n",
        "print(squares)"
      ],
      "metadata": {
        "colab": {
          "base_uri": "https://localhost:8080/"
        },
        "id": "PC01m_1LRV5f",
        "outputId": "3a8fa1b0-aad5-47d0-dad1-5acbc7afd2d1"
      },
      "execution_count": null,
      "outputs": [
        {
          "output_type": "stream",
          "name": "stdout",
          "text": [
            "{0: 0, 1: 1, 2: 4, 3: 9, 4: 16}\n"
          ]
        }
      ]
    },
    {
      "cell_type": "markdown",
      "source": [
        "#### 특정 조건을 적용한 방법"
      ],
      "metadata": {
        "id": "S21dxMG7R-AC"
      }
    },
    {
      "cell_type": "code",
      "source": [
        "even_squares = {num: num ** 2 for num in range(10) if num % 2 == 0}\n",
        "print(even_squares)"
      ],
      "metadata": {
        "colab": {
          "base_uri": "https://localhost:8080/"
        },
        "id": "6TWaFVDHSCSm",
        "outputId": "69fb73f8-21e5-4da1-cf29-bc22abfd95df"
      },
      "execution_count": null,
      "outputs": [
        {
          "output_type": "stream",
          "name": "stdout",
          "text": [
            "{0: 0, 2: 4, 4: 16, 6: 36, 8: 64}\n"
          ]
        }
      ]
    },
    {
      "cell_type": "markdown",
      "source": [
        "#### 다양한 조건을 사용한 데이터 필터링"
      ],
      "metadata": {
        "id": "boG58gU5R1nO"
      }
    },
    {
      "cell_type": "code",
      "execution_count": null,
      "metadata": {
        "id": "UoTcC8-GFqlf",
        "outputId": "7d54cbcf-87c7-4ba9-f723-580def9d5083",
        "colab": {
          "base_uri": "https://localhost:8080/"
        }
      },
      "outputs": [
        {
          "output_type": "stream",
          "name": "stdout",
          "text": [
            "{'서울': 957, '부산': 339, '인천': 294, '대구': 242}\n",
            "{'부산': 339}\n"
          ]
        }
      ],
      "source": [
        "# 인구 200만명 이상의 도시 리스트\n",
        "city_population = {\n",
        "    '서울': 957, '부산': 339, '인천': 294, '대구': 242, '광주': 145, '대전': 147,\n",
        "    '울산': 114, '세종': 36, '수원': 115, '창원': 103, '고양': 105, '용인': 108, '성남': 94\n",
        "}\n",
        "#.items() 각각의 딕셔너리 element가 하나의 tuple로 넘어옴\n",
        "large_cities = {city: pop for city, pop in city_population.items()\n",
        "                                                                if pop >= 200}\n",
        "print(large_cities)\n",
        "\n",
        "# 인구 300만 이상 및 이름에 '산'이 포함된 도시 리스트\n",
        "large_short_name_cities = {city: pop for city, pop in city_population.items()\n",
        "                                                                          if pop >= 300 and '산' in city}\n",
        "print(large_short_name_cities)"
      ]
    },
    {
      "cell_type": "markdown",
      "source": [
        "#### 딕셔너리 컴프리헨션을 이용한 값 변경"
      ],
      "metadata": {
        "id": "4_hMm5dKc-dE"
      }
    },
    {
      "cell_type": "code",
      "source": [
        "scores = {'김철수': 45, '이영희': 38, '박지성': 49, '최민수': 30, '정수정': 42}\n",
        "percentage_scores_new = {name: (score / 50) * 100 for name, score in scores.items()}\n",
        "print('딕셔너리 컴프리헨션 결과:', percentage_scores_new)"
      ],
      "metadata": {
        "colab": {
          "base_uri": "https://localhost:8080/"
        },
        "id": "jWjZt-guc-r3",
        "outputId": "de3e9b12-0b4f-4511-b44d-e71b5767f909"
      },
      "execution_count": null,
      "outputs": [
        {
          "output_type": "stream",
          "name": "stdout",
          "text": [
            "딕셔너리 컴프리헨션 결과: {'김철수': 90.0, '이영희': 76.0, '박지성': 98.0, '최민수': 60.0, '정수정': 84.0}\n"
          ]
        }
      ]
    },
    {
      "cell_type": "markdown",
      "metadata": {
        "id": "njDOfr1LFqlf"
      },
      "source": [
        "## 2.2 데이터 입출력"
      ]
    },
    {
      "cell_type": "markdown",
      "source": [
        "### 2.2.1 문자열 형식 지정"
      ],
      "metadata": {
        "id": "0mpM_3RfkWoX"
      }
    },
    {
      "cell_type": "markdown",
      "source": [
        "#### C 스타일(%연산자)을 이용한 포맷팅\n",
        "\n",
        "\n",
        "\n",
        "*   변수를 삽입할 위치에 %와 형식 지정자 사용\n",
        "* 가독성 떨어짐\n",
        "* 변수 개수나 순서 안 맞으면 오류 발생\n",
        "* 중첩된 구조 직접 활용 어려움\n",
        "\n"
      ],
      "metadata": {
        "id": "_VD5O__FkmJ_"
      }
    },
    {
      "cell_type": "code",
      "execution_count": null,
      "metadata": {
        "id": "fzO0h6KfFqlg",
        "colab": {
          "base_uri": "https://localhost:8080/"
        },
        "outputId": "ebe0b34d-0211-4b33-805c-529133329754"
      },
      "outputs": [
        {
          "output_type": "stream",
          "name": "stdout",
          "text": [
            "이름: 홍길동, 나이: 30, 월급: 3500000원\n",
            "직원 홍길동의 나이는 30세이고, 홍길동의 세후 월급은 3150000원입니다.\n",
            "직원 정보: 이름: 홍길동 나이: 30세 월급: 3500000원  세금: 0.1%, 실수령액: 3150000원\n"
          ]
        }
      ],
      "source": [
        "# C 스타일 문자열 포매팅\n",
        "name = '홍길동'\n",
        "age = 30\n",
        "salary = 3500000\n",
        "tax_rate = 0.1\n",
        "\n",
        "# 이름, 나이, 월급 출력\n",
        "basic_format = '이름: %s, 나이: %d, 월급: %d원' % (name, age, salary)\n",
        "\n",
        "# 직원이름, 나이, 세후 월급 출력\n",
        "index_format = '직원 %s의 나이는 %d세이고, %s의 세후 월급은 %d원입니다.' % (name, age, name, (salary * (1 - tax_rate)))\n",
        "\n",
        "# 직원이름, 나이, 월급, 세금, 실수령액 출력\n",
        "keyword_format = '직원 정보: 이름: %s 나이: %d세 월급: %d원  세금: %.1f%%, 실수령액: %d원' % (name, age, salary, tax_rate, (salary * (1 - tax_rate)))\n",
        "\n",
        "print(basic_format)\n",
        "print(index_format)\n",
        "print(keyword_format)"
      ]
    },
    {
      "cell_type": "markdown",
      "source": [
        "#### str.format() 메서드를 이용한 포맷팅\n",
        "\n",
        "> '문자열 {위치 또는 이름}'.format(인자)\n",
        "\n",
        "*   중괄호({}) 위치에 삽입할 값을 전달\n",
        "*   교재 p. 66 콜론(:) 뒤에 형식 지정자 추가하여 세밀하게 제어 가능\n",
        "*   basic_format 위치 인수(순서대로) - 중괄호 사용하여 값이 삽입될 위치를 표시, .format() 메서드에 순서대로 인자를 전달\n",
        "*   index_format 위치 인수(인덱스 지정) - 중괄호 안에 인덱스 번호를 지정, 같은 값 여러번 사용 가능\n",
        "*   keyword_format 키워드 인수 - 중괄호 안에 변수명을 직접 지정, .format() 메서드에 키워드에 인자를 사용하여 각 변수에 값을 할당, 가독성이 높음\n",
        "\n"
      ],
      "metadata": {
        "id": "J9H_-x5Qk0S_"
      }
    },
    {
      "cell_type": "code",
      "source": [
        "# str.format 문자열 포매팅\n",
        "name = '홍길동'\n",
        "age = 30\n",
        "salary = 3500000\n",
        "tax_rate = 0.1\n",
        "\n",
        "# 이름, 나이, 월급 출력\n",
        "basic_format = '이름: {}, 나이: {}, 월급: {}원'.format(name, age, salary)\n",
        "\n",
        "# 직원이름, 나이, 세후 월급 출력\n",
        "index_format = '직원 {0}의 나이는 {1}세이고, {0}의 세후 월급은 {2}원입니다.'.format(name, age, int(salary * (1 - tax_rate)))\n",
        "\n",
        "# 직원이름, 나이, 월급, 세금, 실수령액 추력\n",
        "keyword_format = '직원정보: 이름: {employee} 나이: {years}세 월급: {income:,}원 세금: {tax:.1%} 실수령액: {net_income:,}원'.format(employee = name, years = age, income = salary,\n",
        "                                                                                                                                    tax = tax_rate, net_income = int(salary * ( 1 - tax_rate)))\n",
        "\n",
        "print(basic_format)\n",
        "print(index_format)\n",
        "print(keyword_format)"
      ],
      "metadata": {
        "id": "cIvmmcQux_ph",
        "outputId": "bc10d0f4-450d-4227-da8c-da6fbf54006a",
        "colab": {
          "base_uri": "https://localhost:8080/"
        }
      },
      "execution_count": null,
      "outputs": [
        {
          "output_type": "stream",
          "name": "stdout",
          "text": [
            "이름: 홍길동, 나이: 30, 월급: 3500000원\n",
            "직원 홍길동의 나이는 30세이고, 홍길동의 세후 월급은 3150000원입니다.\n",
            "직원정보: 이름: 홍길동 나이: 30세 월급: 3,500,000원 세금: 10.0% 실수령액: 3,150,000원\n"
          ]
        }
      ]
    },
    {
      "cell_type": "markdown",
      "source": [
        "#### f-문자열을 이용한 포맷팅\n",
        "* 인터폴레이션(interpolation) 활용\n",
        "*   문자열 내에 변수나 표현식을 직접 삽입할 수 있는 방법\n",
        "*   다른 문자열 형식 지정 방법보다 실행 속도가 빠르다\n",
        "*   문자열 앞에 'f' 또는 'F' 접두사를 붙이고, 중괄호를 사용하여 변수나 표현식을 포함\n",
        "*   콜론(:) 뒤에 형식 지정자 추가하여 세밀하게 제어 가능\n"
      ],
      "metadata": {
        "id": "k0jwOlmLsXLn"
      }
    },
    {
      "cell_type": "code",
      "source": [
        "# f-문자열 포매팅\n",
        "name = '홍길동'\n",
        "age = 30\n",
        "salary = 3500000\n",
        "tax_rate = 0.1\n",
        "\n",
        "# 이름, 나이, 월급 출력\n",
        "basic_format = F'이름: {name}, 나이: {age}, 월급: {salary:,}원'\n",
        "\n",
        "# 직원이름, 나이, 세후 월급 출력\n",
        "index_format = f'직원 {name}의 나이는 {age}세이고, {name}의 세후 월급은 {int(salary * (1 - tax_rate))}원입니다.'\n",
        "\n",
        "# 직원이름, 나이, 월급, 세금, 실수령액 추력\n",
        "keyword_format = f'직원정보: 이름: {name} 나이: {age} 월급: {salary:,}원 세금: {tax_rate:.1%} 실수령액: {int(salary * (1 - tax_rate)):,}원'\n",
        "\n",
        "print(basic_format)\n",
        "print(index_format)\n",
        "print(keyword_format)"
      ],
      "metadata": {
        "id": "EIO3z-XQx_ce",
        "outputId": "c8e0f21e-8898-47d6-8456-a9fc4aedc023",
        "colab": {
          "base_uri": "https://localhost:8080/"
        }
      },
      "execution_count": null,
      "outputs": [
        {
          "output_type": "stream",
          "name": "stdout",
          "text": [
            "이름: 홍길동, 나이: 30, 월급: 3,500,000원\n",
            "직원 홍길동의 나이는 30세이고, 홍길동의 세후 월급은 3150000원입니다.\n",
            "직원정보: 이름: 홍길동 나이: 30 월급: 3,500,000원 세금: 10.0% 실수령액: 3,150,000원\n"
          ]
        }
      ]
    },
    {
      "cell_type": "markdown",
      "metadata": {
        "id": "6lnhCleJFqlg"
      },
      "source": [
        "### 2.2.2 컨텍스트 관리\n",
        "\n",
        "*   컨텍스트 관리(context management)란 자원을 효율적이고 안전하게 사용할 수 있도록하는 메커니즘\n",
        "*   명시적으로 종료하여야 하는 자원의 획득과 해제를 자동으로 처리함\n",
        "*   예외 상황에서도 리소스가 올바르게 해제 되므로 메모리 누수와 파일 손상 방지"
      ]
    },
    {
      "cell_type": "markdown",
      "source": [
        "#### with 문 사용 예 (1)\n",
        "\n",
        "*   .close()를 호출하지 않을 경우 일부 데이터가 버퍼에 남아 있을 수 있음, 이는 데이터 손실로 이어질 가능성\n",
        "*   파일 핸들 누수(file handle leak)가 발생 가능\n",
        "*   운영체제는 동시에 열 수 있는 파일의 수에 제한을 두어서 시스템 리소스가 고갈 될 수 있음\n",
        "*   리스트와 딕셔너리도 활용 가능\n",
        "*   곧 바로 메모리 반환, 크게 메모리를 사용하지 않는 프로그램 (유용)"
      ],
      "metadata": {
        "id": "_ZdMJv6Dxm0f"
      }
    },
    {
      "cell_type": "code",
      "source": [
        "# 파일 오픈 & 클로즈\n",
        "file = open('output.txt', 'w')\n",
        "file.write('Hello, world!\\n')\n",
        "file.close()"
      ],
      "metadata": {
        "id": "jgC6gasrw6Zn"
      },
      "execution_count": null,
      "outputs": []
    },
    {
      "cell_type": "code",
      "execution_count": null,
      "metadata": {
        "id": "eFpmQp3QFqlh"
      },
      "outputs": [],
      "source": [
        "with open('output.txt', 'w') as file_write:\n",
        "    file_write.write('Hello, world!\\n')"
      ]
    },
    {
      "cell_type": "markdown",
      "source": [
        "#### with 문 사용 예 (2)\n",
        "\n",
        "\n",
        "\n",
        "*   여러개의 컨텍스트를 동시에 관리할 수 있음\n",
        "\n",
        "\n",
        "\n",
        "1.   'input.txt'라는 파일을 읽기 모드 (r)로 열어 in_file 변수에 할당\n",
        "2.   'output.txt'라는 파일을 쓰기 모드(w)로 열어 out_file 변수에 할당\n",
        "2.   for 루프를 사용하여 입력 파일의 각 라인을 순회, 해당 라인의 내용을 대문자로 변환하여 출력 파일에 기록\n",
        "\n",
        "\n"
      ],
      "metadata": {
        "id": "LCvhjrTfyPqf"
      }
    },
    {
      "cell_type": "code",
      "source": [
        "# 복수개의 파일(읽기 & 쓰기) 관리\n",
        "with open('input.txt', 'r') as in_file, open('output.txt', 'w') as out_file:\n",
        "    for line in in_file:\n",
        "        out_file.wrtie(line.upper())"
      ],
      "metadata": {
        "id": "FqRQAiK3H5TT"
      },
      "execution_count": null,
      "outputs": []
    },
    {
      "cell_type": "markdown",
      "source": [
        "#### with 문 사용 예 (3)\n",
        "\n",
        "\n",
        "\n",
        "*   소켓 연결, HTTP 요청, FTP 연결 등 네트워크 리소스를 관리할 때 사용\n",
        "*   연결이 자동으로 종료되어 리소스의 누수를 방지\n",
        "* HTTP 연결을 컨텍스트 관리자로 처리하여 자동으로 리소스가 관리되므로 예외가 발생하더라도 네트워크 연결이 적절히 닫히도록 보장\n",
        "\n",
        "\n",
        "\n",
        "1.   urlopen() 메서드를 사용하여 주어진 URL에 HTTP GET 요청을 보냄\n",
        "2.   이 URL은 GitHub의 저장소의 raw 컨텐츠를 직접 가리키는 주소 (HTML이 아닌 실제 CSV 파일 내용 반환)\n",
        "\n",
        "\n",
        "\n"
      ],
      "metadata": {
        "id": "gNWe6iiGyito"
      }
    },
    {
      "cell_type": "code",
      "execution_count": null,
      "metadata": {
        "id": "6SE0rrD5Fqli",
        "colab": {
          "base_uri": "https://localhost:8080/"
        },
        "outputId": "b084e2b3-b535-4329-d958-d681ab22ce9f"
      },
      "outputs": [
        {
          "output_type": "stream",
          "name": "stdout",
          "text": [
            "학번,이름,데이터베이스,파이썬,클라우드\n",
            "101,김철수,85,78,92\n",
            "102,이영희,76,82,78\n",
            "103,박지민,92,95,85\n",
            "104,최준서,63,70,75\n",
            "105,정미나,88,84,91\n",
            "\n"
          ]
        }
      ],
      "source": [
        "#웹커넥션 통신 리소스에서도 간편하게 이용 가능\n",
        "import urllib.request\n",
        "with urllib.request.urlopen('https://raw.githubusercontent.com/jaehwachung/Data-Analysis-with-Open-Source/refs/heads/main/Chapter%203/students.csv') as response:\n",
        "    data = response.read( ).decode('utf-8')\n",
        "\n",
        "print(data)"
      ]
    }
  ],
  "metadata": {
    "colab": {
      "provenance": [],
      "include_colab_link": true
    },
    "kernelspec": {
      "display_name": "Python 3",
      "name": "python3"
    },
    "language_info": {
      "name": "python"
    }
  },
  "nbformat": 4,
  "nbformat_minor": 0
}